{
 "cells": [
  {
   "cell_type": "code",
   "execution_count": 1,
   "metadata": {},
   "outputs": [],
   "source": [
    "%load_ext autoreload\n",
    "%autoreload 2"
   ]
  },
  {
   "cell_type": "code",
   "execution_count": 2,
   "metadata": {},
   "outputs": [],
   "source": [
    "import datetime as dt\n",
    "import glob\n",
    "\n",
    "import numpy as np\n",
    "import pandas as pd\n",
    "from pyproj import CRS\n",
    "\n",
    "from torchgeo.experimental.spatiotemporal.gpd_index import (\n",
    "    build_fake_sparse_rasters,\n",
    "    build_raster_index,\n",
    "    jitter_geometries,\n",
    ")"
   ]
  },
  {
   "cell_type": "markdown",
   "metadata": {},
   "source": [
    "## Geopandas as a Tile Index for SpatioTemporally Sparse Tiles\n",
    "\n",
    "Examples of temporally/spatially sparse tiffs for various collections. Collections here refer to uniform tifs such as landsat with expected bands, sentinel, and a target (like land use land cover, etc.)\n",
    "\n",
    "We build three collections:\n",
    "- landsat at 30m for 10 dates for 10 aois with 4 bands in utm zone (32610)\n",
    "- sentinel at 10m for 10 dates for 10 aois with 4 bands in webmercator (3857)\n",
    "- target at 30m for 3 dates for 10 aois with 1 band in 4326\n",
    "\n",
    "Note:\n",
    "- we do not cover the case where targets are vector data and since we use geopandas, this should be relatively natural to implement"
   ]
  },
  {
   "cell_type": "code",
   "execution_count": 3,
   "metadata": {},
   "outputs": [
    {
     "data": {
      "text/plain": [
       "230"
      ]
     },
     "execution_count": 3,
     "metadata": {},
     "output_type": "execute_result"
    }
   ],
   "source": [
    "num_overlapping_sites = 10\n",
    "rng = np.random.default_rng(42)\n",
    "random_lat_lon_origins = [\n",
    "    (\n",
    "        rng.uniform(-123, -117),  # within UTM 32610 North Hemisphere zone\n",
    "        rng.uniform(35, 55),  # on land\n",
    "    )\n",
    "    for _ in range(num_overlapping_sites)\n",
    "]\n",
    "\n",
    "# case where targets are rasters\n",
    "targets = build_fake_sparse_rasters(\n",
    "    output_dir='/tmp/example_rasters/targets',\n",
    "    lat_lons=random_lat_lon_origins,\n",
    "    crs=CRS.from_epsg(4326),\n",
    "    num_dates=3,\n",
    "    resolution_meters=30,\n",
    "    start_date=dt.datetime(2023, 1, 1),\n",
    "    end_date=dt.datetime(2023, 1, 31),\n",
    "    nbands=1,\n",
    "    rng=rng,\n",
    ")\n",
    "\n",
    "sentinel2 = build_fake_sparse_rasters(\n",
    "    output_dir='/tmp/example_rasters/sentinel2',\n",
    "    lat_lons=random_lat_lon_origins,\n",
    "    crs=CRS.from_epsg(3857),  # likely actually UTM\n",
    "    num_dates=10,\n",
    "    resolution_meters=10,\n",
    "    start_date=dt.datetime(2023, 1, 1),\n",
    "    end_date=dt.datetime(2023, 1, 31),\n",
    "    nbands=4,\n",
    "    rng=rng,\n",
    ")\n",
    "\n",
    "landsat = build_fake_sparse_rasters(\n",
    "    output_dir='/tmp/example_rasters/landsat',\n",
    "    lat_lons=random_lat_lon_origins,\n",
    "    crs=CRS.from_epsg(32610),\n",
    "    num_dates=10,\n",
    "    resolution_meters=30,\n",
    "    start_date=dt.datetime(2023, 1, 1),\n",
    "    end_date=dt.datetime(2023, 1, 31),\n",
    "    nbands=4,\n",
    "    rng=rng,\n",
    ")\n",
    "\n",
    "# sanity check\n",
    "len(glob.glob('/tmp/example_rasters/**/*.tif'))"
   ]
  },
  {
   "cell_type": "markdown",
   "metadata": {},
   "source": [
    "Think of each index below as defining an independent dataset."
   ]
  },
  {
   "cell_type": "code",
   "execution_count": 4,
   "metadata": {},
   "outputs": [],
   "source": [
    "date_regex = r'_(\\d{8})\\.tif$'\n",
    "\n",
    "target_index = build_raster_index(\n",
    "    tifs=targets, date_regex=date_regex, collection='target'\n",
    ")\n",
    "sentinel2_tiff_index = build_raster_index(\n",
    "    tifs=sentinel2, date_regex=date_regex, collection='sentinel2'\n",
    ")\n",
    "landsat_tiff_index = build_raster_index(\n",
    "    tifs=landsat, date_regex=date_regex, collection='landsat'\n",
    ")\n",
    "collection_index = pd.concat([sentinel2_tiff_index, landsat_tiff_index])"
   ]
  },
  {
   "cell_type": "code",
   "execution_count": 5,
   "metadata": {},
   "outputs": [
    {
     "data": {
      "text/plain": [
       "(30, 200)"
      ]
     },
     "execution_count": 5,
     "metadata": {},
     "output_type": "execute_result"
    }
   ],
   "source": [
    "len(target_index), len(collection_index)"
   ]
  },
  {
   "cell_type": "markdown",
   "metadata": {},
   "source": [
    "Given tile index(es) for target collection, and multiple feature collections, let's demonstrate applying criteria to build a geopandas gdf that we can use for sampling.\n",
    "\n",
    "In this example, we require:\n",
    "- feature collections for a target tile fall within an 8day window before the target tile as a candidate feature tile\n",
    "- all collections (target and features) intersect generating a viable sampling area\n",
    "- all feature collections must be present as a viable sampling area\n",
    "\n",
    "Note: likely room to optimize these opterations. This would sit somewhere between the union operator on datasets with index being a geopandas gdf (instead of rtree) and the sampler. This should also be precomputed somehow.\n",
    "\n",
    "Think of the below operation as one way to union spatialtemporal datasets to define valid aois from which to sample."
   ]
  },
  {
   "cell_type": "code",
   "execution_count": 6,
   "metadata": {},
   "outputs": [
    {
     "name": "stdout",
     "output_type": "stream",
     "text": [
      "CPU times: user 4 μs, sys: 0 ns, total: 4 μs\n",
      "Wall time: 8.11 μs\n"
     ]
    }
   ],
   "source": [
    "%time\n",
    "window = 8  # valid aoi must fall within 8days leading up to target tif\n",
    "required_collection = {'sentinel2', 'landsat', 'target'}\n",
    "\n",
    "valid_data = []\n",
    "for i, target_tile in target_index.groupby('location'):\n",
    "    # subset all collections w.r.t. time\n",
    "    k = collection_index.datetime - target_tile.iloc[0].datetime\n",
    "    idx = (k < pd.Timedelta(0, 'D')) & (k > -pd.Timedelta(window, 'D'))\n",
    "    subset = collection_index[idx]\n",
    "    # subset all collections wr.t. space\n",
    "    subset = subset[subset.intersects(target_tile.iloc[0]['geometry'])]\n",
    "\n",
    "    # find the intersection of all collection geometries\n",
    "    # we need to actually use overlay or some other way of handling the case\n",
    "    # where not all collections intersect. e.g. if one is disjoint, we will\n",
    "    # get an empty GeoSeries\n",
    "    combined = pd.concat([subset, target_tile])\n",
    "    combined = combined.clip(combined.intersection_all())\n",
    "\n",
    "    # combined = pd.concat([target_subset, collection_subset])\n",
    "    combined['target_id'] = target_tile.iloc[0].name\n",
    "\n",
    "    # apply any criteria like min number w.r.t. a collection or that all\n",
    "    # collections are present, etc.\n",
    "    if set(combined.collection.unique()) != required_collection:\n",
    "        continue\n",
    "\n",
    "    valid_data.append(combined)\n",
    "\n",
    "final = pd.concat(valid_data)"
   ]
  },
  {
   "cell_type": "code",
   "execution_count": 7,
   "metadata": {},
   "outputs": [
    {
     "data": {
      "text/plain": [
       "True"
      ]
     },
     "execution_count": 7,
     "metadata": {},
     "output_type": "execute_result"
    }
   ],
   "source": [
    "all(\n",
    "    final.groupby('target_id').apply(\n",
    "        lambda x: x['collection'].nunique(), include_groups=False\n",
    "    )\n",
    "    == 3\n",
    ")"
   ]
  },
  {
   "cell_type": "code",
   "execution_count": 8,
   "metadata": {},
   "outputs": [
    {
     "data": {
      "text/html": [
       "<div>\n",
       "<style scoped>\n",
       "    .dataframe tbody tr th:only-of-type {\n",
       "        vertical-align: middle;\n",
       "    }\n",
       "\n",
       "    .dataframe tbody tr th {\n",
       "        vertical-align: top;\n",
       "    }\n",
       "\n",
       "    .dataframe thead th {\n",
       "        text-align: right;\n",
       "    }\n",
       "</style>\n",
       "<table border=\"1\" class=\"dataframe\">\n",
       "  <thead>\n",
       "    <tr style=\"text-align: right;\">\n",
       "      <th></th>\n",
       "      <th>crs</th>\n",
       "      <th>geometry</th>\n",
       "      <th>location</th>\n",
       "      <th>datetime</th>\n",
       "      <th>collection</th>\n",
       "    </tr>\n",
       "    <tr>\n",
       "      <th>target_id</th>\n",
       "      <th></th>\n",
       "      <th></th>\n",
       "      <th></th>\n",
       "      <th></th>\n",
       "      <th></th>\n",
       "    </tr>\n",
       "  </thead>\n",
       "  <tbody>\n",
       "    <tr>\n",
       "      <th>0</th>\n",
       "      <td>3</td>\n",
       "      <td>3</td>\n",
       "      <td>3</td>\n",
       "      <td>3</td>\n",
       "      <td>3</td>\n",
       "    </tr>\n",
       "    <tr>\n",
       "      <th>1</th>\n",
       "      <td>3</td>\n",
       "      <td>3</td>\n",
       "      <td>3</td>\n",
       "      <td>3</td>\n",
       "      <td>3</td>\n",
       "    </tr>\n",
       "    <tr>\n",
       "      <th>2</th>\n",
       "      <td>8</td>\n",
       "      <td>8</td>\n",
       "      <td>8</td>\n",
       "      <td>8</td>\n",
       "      <td>8</td>\n",
       "    </tr>\n",
       "    <tr>\n",
       "      <th>4</th>\n",
       "      <td>3</td>\n",
       "      <td>3</td>\n",
       "      <td>3</td>\n",
       "      <td>3</td>\n",
       "      <td>3</td>\n",
       "    </tr>\n",
       "    <tr>\n",
       "      <th>5</th>\n",
       "      <td>4</td>\n",
       "      <td>4</td>\n",
       "      <td>4</td>\n",
       "      <td>4</td>\n",
       "      <td>4</td>\n",
       "    </tr>\n",
       "  </tbody>\n",
       "</table>\n",
       "</div>"
      ],
      "text/plain": [
       "           crs  geometry  location  datetime  collection\n",
       "target_id                                               \n",
       "0            3         3         3         3           3\n",
       "1            3         3         3         3           3\n",
       "2            8         8         8         8           8\n",
       "4            3         3         3         3           3\n",
       "5            4         4         4         4           4"
      ]
     },
     "execution_count": 8,
     "metadata": {},
     "output_type": "execute_result"
    }
   ],
   "source": [
    "# now if we split by target_id and sample, we will have a variable number of scenes\n",
    "# that overlap. We would have to decide if our ML algorithm caan handle a non-uniform\n",
    "# temporal grid or if we want to resample to a temporal grid or to composite with the\n",
    "# median for example.\n",
    "final.groupby('target_id').count().head(5)"
   ]
  },
  {
   "cell_type": "code",
   "execution_count": 9,
   "metadata": {},
   "outputs": [
    {
     "data": {
      "text/html": [
       "<div style=\"width:100%;\"><div style=\"position:relative;width:100%;height:0;padding-bottom:60%;\"><span style=\"color:#565656\">Make this Notebook Trusted to load map: File -> Trust Notebook</span><iframe srcdoc=\"&lt;!DOCTYPE html&gt;\n",
       "&lt;html&gt;\n",
       "&lt;head&gt;\n",
       "    \n",
       "    &lt;meta http-equiv=&quot;content-type&quot; content=&quot;text/html; charset=UTF-8&quot; /&gt;\n",
       "    \n",
       "        &lt;script&gt;\n",
       "            L_NO_TOUCH = false;\n",
       "            L_DISABLE_3D = false;\n",
       "        &lt;/script&gt;\n",
       "    \n",
       "    &lt;style&gt;html, body {width: 100%;height: 100%;margin: 0;padding: 0;}&lt;/style&gt;\n",
       "    &lt;style&gt;#map {position:absolute;top:0;bottom:0;right:0;left:0;}&lt;/style&gt;\n",
       "    &lt;script src=&quot;https://cdn.jsdelivr.net/npm/leaflet@1.9.3/dist/leaflet.js&quot;&gt;&lt;/script&gt;\n",
       "    &lt;script src=&quot;https://code.jquery.com/jquery-3.7.1.min.js&quot;&gt;&lt;/script&gt;\n",
       "    &lt;script src=&quot;https://cdn.jsdelivr.net/npm/bootstrap@5.2.2/dist/js/bootstrap.bundle.min.js&quot;&gt;&lt;/script&gt;\n",
       "    &lt;script src=&quot;https://cdnjs.cloudflare.com/ajax/libs/Leaflet.awesome-markers/2.0.2/leaflet.awesome-markers.js&quot;&gt;&lt;/script&gt;\n",
       "    &lt;link rel=&quot;stylesheet&quot; href=&quot;https://cdn.jsdelivr.net/npm/leaflet@1.9.3/dist/leaflet.css&quot;/&gt;\n",
       "    &lt;link rel=&quot;stylesheet&quot; href=&quot;https://cdn.jsdelivr.net/npm/bootstrap@5.2.2/dist/css/bootstrap.min.css&quot;/&gt;\n",
       "    &lt;link rel=&quot;stylesheet&quot; href=&quot;https://netdna.bootstrapcdn.com/bootstrap/3.0.0/css/bootstrap-glyphicons.css&quot;/&gt;\n",
       "    &lt;link rel=&quot;stylesheet&quot; href=&quot;https://cdn.jsdelivr.net/npm/@fortawesome/fontawesome-free@6.2.0/css/all.min.css&quot;/&gt;\n",
       "    &lt;link rel=&quot;stylesheet&quot; href=&quot;https://cdnjs.cloudflare.com/ajax/libs/Leaflet.awesome-markers/2.0.2/leaflet.awesome-markers.css&quot;/&gt;\n",
       "    &lt;link rel=&quot;stylesheet&quot; href=&quot;https://cdn.jsdelivr.net/gh/python-visualization/folium/folium/templates/leaflet.awesome.rotate.min.css&quot;/&gt;\n",
       "    \n",
       "            &lt;meta name=&quot;viewport&quot; content=&quot;width=device-width,\n",
       "                initial-scale=1.0, maximum-scale=1.0, user-scalable=no&quot; /&gt;\n",
       "            &lt;style&gt;\n",
       "                #map_dec5bdf8937b1d53d9d6d751b4fbd38c {\n",
       "                    position: relative;\n",
       "                    width: 100.0%;\n",
       "                    height: 100.0%;\n",
       "                    left: 0.0%;\n",
       "                    top: 0.0%;\n",
       "                }\n",
       "                .leaflet-container { font-size: 1rem; }\n",
       "            &lt;/style&gt;\n",
       "        \n",
       "    \n",
       "                    &lt;style&gt;\n",
       "                        .foliumtooltip {\n",
       "                            \n",
       "                        }\n",
       "                       .foliumtooltip table{\n",
       "                            margin: auto;\n",
       "                        }\n",
       "                        .foliumtooltip tr{\n",
       "                            text-align: left;\n",
       "                        }\n",
       "                        .foliumtooltip th{\n",
       "                            padding: 2px; padding-right: 8px;\n",
       "                        }\n",
       "                    &lt;/style&gt;\n",
       "            \n",
       "&lt;/head&gt;\n",
       "&lt;body&gt;\n",
       "    \n",
       "    \n",
       "            &lt;div class=&quot;folium-map&quot; id=&quot;map_dec5bdf8937b1d53d9d6d751b4fbd38c&quot; &gt;&lt;/div&gt;\n",
       "        \n",
       "&lt;/body&gt;\n",
       "&lt;script&gt;\n",
       "    \n",
       "    \n",
       "            var map_dec5bdf8937b1d53d9d6d751b4fbd38c = L.map(\n",
       "                &quot;map_dec5bdf8937b1d53d9d6d751b4fbd38c&quot;,\n",
       "                {\n",
       "                    center: [45.39054760381425, -120.13712922266825],\n",
       "                    crs: L.CRS.EPSG3857,\n",
       "                    zoom: 10,\n",
       "                    zoomControl: true,\n",
       "                    preferCanvas: false,\n",
       "                }\n",
       "            );\n",
       "            L.control.scale().addTo(map_dec5bdf8937b1d53d9d6d751b4fbd38c);\n",
       "\n",
       "            \n",
       "\n",
       "        \n",
       "    \n",
       "            var tile_layer_5a4c85a5a75a7ec3c85ac26135809336 = L.tileLayer(\n",
       "                &quot;https://tile.openstreetmap.org/{z}/{x}/{y}.png&quot;,\n",
       "                {&quot;attribution&quot;: &quot;\\u0026copy; \\u003ca href=\\&quot;https://www.openstreetmap.org/copyright\\&quot;\\u003eOpenStreetMap\\u003c/a\\u003e contributors&quot;, &quot;detectRetina&quot;: false, &quot;maxNativeZoom&quot;: 19, &quot;maxZoom&quot;: 19, &quot;minZoom&quot;: 0, &quot;noWrap&quot;: false, &quot;opacity&quot;: 1, &quot;subdomains&quot;: &quot;abc&quot;, &quot;tms&quot;: false}\n",
       "            );\n",
       "        \n",
       "    \n",
       "            tile_layer_5a4c85a5a75a7ec3c85ac26135809336.addTo(map_dec5bdf8937b1d53d9d6d751b4fbd38c);\n",
       "        \n",
       "    \n",
       "            map_dec5bdf8937b1d53d9d6d751b4fbd38c.fitBounds(\n",
       "                [[36.26822028163311, -122.43581084827352], [54.51287492599538, -117.838447597063]],\n",
       "                {}\n",
       "            );\n",
       "        \n",
       "    \n",
       "        function geo_json_e4abb2cfe34fbf9662cf426b48ac1e33_styler(feature) {\n",
       "            switch(feature.id) {\n",
       "                default:\n",
       "                    return {&quot;fillOpacity&quot;: 0.5, &quot;weight&quot;: 2};\n",
       "            }\n",
       "        }\n",
       "        function geo_json_e4abb2cfe34fbf9662cf426b48ac1e33_highlighter(feature) {\n",
       "            switch(feature.id) {\n",
       "                default:\n",
       "                    return {&quot;fillOpacity&quot;: 0.75};\n",
       "            }\n",
       "        }\n",
       "        function geo_json_e4abb2cfe34fbf9662cf426b48ac1e33_pointToLayer(feature, latlng) {\n",
       "            var opts = {&quot;bubblingMouseEvents&quot;: true, &quot;color&quot;: &quot;#3388ff&quot;, &quot;dashArray&quot;: null, &quot;dashOffset&quot;: null, &quot;fill&quot;: true, &quot;fillColor&quot;: &quot;#3388ff&quot;, &quot;fillOpacity&quot;: 0.2, &quot;fillRule&quot;: &quot;evenodd&quot;, &quot;lineCap&quot;: &quot;round&quot;, &quot;lineJoin&quot;: &quot;round&quot;, &quot;opacity&quot;: 1.0, &quot;radius&quot;: 2, &quot;stroke&quot;: true, &quot;weight&quot;: 3};\n",
       "            \n",
       "            let style = geo_json_e4abb2cfe34fbf9662cf426b48ac1e33_styler(feature)\n",
       "            Object.assign(opts, style)\n",
       "            \n",
       "            return new L.CircleMarker(latlng, opts)\n",
       "        }\n",
       "\n",
       "        function geo_json_e4abb2cfe34fbf9662cf426b48ac1e33_onEachFeature(feature, layer) {\n",
       "            layer.on({\n",
       "                mouseout: function(e) {\n",
       "                    if(typeof e.target.setStyle === &quot;function&quot;){\n",
       "                            geo_json_e4abb2cfe34fbf9662cf426b48ac1e33.resetStyle(e.target);\n",
       "                    }\n",
       "                },\n",
       "                mouseover: function(e) {\n",
       "                    if(typeof e.target.setStyle === &quot;function&quot;){\n",
       "                        const highlightStyle = geo_json_e4abb2cfe34fbf9662cf426b48ac1e33_highlighter(e.target.feature)\n",
       "                        e.target.setStyle(highlightStyle);\n",
       "                    }\n",
       "                },\n",
       "            });\n",
       "        };\n",
       "        var geo_json_e4abb2cfe34fbf9662cf426b48ac1e33 = L.geoJson(null, {\n",
       "                onEachFeature: geo_json_e4abb2cfe34fbf9662cf426b48ac1e33_onEachFeature,\n",
       "            \n",
       "                style: geo_json_e4abb2cfe34fbf9662cf426b48ac1e33_styler,\n",
       "                pointToLayer: geo_json_e4abb2cfe34fbf9662cf426b48ac1e33_pointToLayer,\n",
       "        });\n",
       "\n",
       "        function geo_json_e4abb2cfe34fbf9662cf426b48ac1e33_add (data) {\n",
       "            geo_json_e4abb2cfe34fbf9662cf426b48ac1e33\n",
       "                .addData(data);\n",
       "        }\n",
       "            geo_json_e4abb2cfe34fbf9662cf426b48ac1e33_add({&quot;bbox&quot;: [-122.43581084827352, 36.26822028163311, -117.838447597063, 54.51287492599538], &quot;features&quot;: [{&quot;bbox&quot;: [-118.35620893651851, 43.77097937994625, -118.34722578367732, 43.77746584786986], &quot;geometry&quot;: {&quot;coordinates&quot;: [[[-118.34722578367732, 43.77746584786986], [-118.34722578367732, 43.77097937994625], [-118.35620893651851, 43.77097937994625], [-118.35620893651851, 43.77746584786986], [-118.34722578367732, 43.77746584786986]]], &quot;type&quot;: &quot;Polygon&quot;}, &quot;id&quot;: &quot;0&quot;, &quot;properties&quot;: {&quot;collection&quot;: &quot;landsat&quot;, &quot;crs&quot;: &quot;EPSG:32610&quot;, &quot;datetime&quot;: &quot;2023-01-04&quot;, &quot;location&quot;: &quot;/tmp/example_rasters/landsat/0_20230104.tif&quot;, &quot;target_id&quot;: 1}, &quot;type&quot;: &quot;Feature&quot;}, {&quot;bbox&quot;: [-118.35567136217766, 43.77107632996361, -118.34668820933646, 43.77756279788723], &quot;geometry&quot;: {&quot;coordinates&quot;: [[[-118.35567136217766, 43.77756279788723], [-118.34668820933646, 43.77756279788723], [-118.34668820933646, 43.77107632996361], [-118.35567136217766, 43.77107632996361], [-118.35567136217766, 43.77756279788723]]], &quot;type&quot;: &quot;Polygon&quot;}, &quot;id&quot;: &quot;1&quot;, &quot;properties&quot;: {&quot;collection&quot;: &quot;target&quot;, &quot;crs&quot;: &quot;EPSG:4326&quot;, &quot;datetime&quot;: &quot;2023-01-05&quot;, &quot;location&quot;: &quot;/tmp/example_rasters/targets/0_20230105.tif&quot;, &quot;target_id&quot;: 1}, &quot;type&quot;: &quot;Feature&quot;}, {&quot;bbox&quot;: [-118.35623132855171, 43.771973908014985, -118.34724817571052, 43.7784603759386], &quot;geometry&quot;: {&quot;coordinates&quot;: [[[-118.34724817571052, 43.771973908014985], [-118.35623132855171, 43.771973908014985], [-118.35623132855171, 43.7784603759386], [-118.34724817571052, 43.7784603759386], [-118.34724817571052, 43.771973908014985]]], &quot;type&quot;: &quot;Polygon&quot;}, &quot;id&quot;: &quot;2&quot;, &quot;properties&quot;: {&quot;collection&quot;: &quot;sentinel2&quot;, &quot;crs&quot;: &quot;EPSG:3857&quot;, &quot;datetime&quot;: &quot;2023-01-01&quot;, &quot;location&quot;: &quot;/tmp/example_rasters/sentinel2/0_20230101.tif&quot;, &quot;target_id&quot;: 1}, &quot;type&quot;: &quot;Feature&quot;}, {&quot;bbox&quot;: [-118.35654362459816, 43.77145019244374, -118.34756047175696, 43.77793666036735], &quot;geometry&quot;: {&quot;coordinates&quot;: [[[-118.34756047175696, 43.77793666036735], [-118.34756047175696, 43.77145019244374], [-118.35654362459816, 43.77145019244374], [-118.35654362459816, 43.77793666036735], [-118.34756047175696, 43.77793666036735]]], &quot;type&quot;: &quot;Polygon&quot;}, &quot;id&quot;: &quot;3&quot;, &quot;properties&quot;: {&quot;collection&quot;: &quot;landsat&quot;, &quot;crs&quot;: &quot;EPSG:32610&quot;, &quot;datetime&quot;: &quot;2023-01-21&quot;, &quot;location&quot;: &quot;/tmp/example_rasters/landsat/0_20230121.tif&quot;, &quot;target_id&quot;: 2}, &quot;type&quot;: &quot;Feature&quot;}, {&quot;bbox&quot;: [-118.35673051706517, 43.77161564792894, -118.34774736422398, 43.778102115852555], &quot;geometry&quot;: {&quot;coordinates&quot;: [[[-118.34774736422398, 43.778102115852555], [-118.34774736422398, 43.77161564792894], [-118.35673051706517, 43.77161564792894], [-118.35673051706517, 43.778102115852555], [-118.34774736422398, 43.778102115852555]]], &quot;type&quot;: &quot;Polygon&quot;}, &quot;id&quot;: &quot;4&quot;, &quot;properties&quot;: {&quot;collection&quot;: &quot;landsat&quot;, &quot;crs&quot;: &quot;EPSG:32610&quot;, &quot;datetime&quot;: &quot;2023-01-15&quot;, &quot;location&quot;: &quot;/tmp/example_rasters/landsat/0_20230115.tif&quot;, &quot;target_id&quot;: 2}, &quot;type&quot;: &quot;Feature&quot;}, {&quot;bbox&quot;: [-118.35709502049346, 43.77107956188349, -118.34811186765226, 43.777566029807105], &quot;geometry&quot;: {&quot;coordinates&quot;: [[[-118.34811186765226, 43.777566029807105], [-118.34811186765226, 43.77107956188349], [-118.35709502049346, 43.77107956188349], [-118.35709502049346, 43.777566029807105], [-118.34811186765226, 43.777566029807105]]], &quot;type&quot;: &quot;Polygon&quot;}, &quot;id&quot;: &quot;5&quot;, &quot;properties&quot;: {&quot;collection&quot;: &quot;landsat&quot;, &quot;crs&quot;: &quot;EPSG:32610&quot;, &quot;datetime&quot;: &quot;2023-01-20&quot;, &quot;location&quot;: &quot;/tmp/example_rasters/landsat/0_20230120.tif&quot;, &quot;target_id&quot;: 2}, &quot;type&quot;: &quot;Feature&quot;}, {&quot;bbox&quot;: [-118.35604709828678, 43.77075300342416, -118.34706394544558, 43.77723947134778], &quot;geometry&quot;: {&quot;coordinates&quot;: [[[-118.34706394544558, 43.77723947134778], [-118.34706394544558, 43.77075300342416], [-118.35604709828678, 43.77075300342416], [-118.35604709828678, 43.77723947134778], [-118.34706394544558, 43.77723947134778]]], &quot;type&quot;: &quot;Polygon&quot;}, &quot;id&quot;: &quot;6&quot;, &quot;properties&quot;: {&quot;collection&quot;: &quot;landsat&quot;, &quot;crs&quot;: &quot;EPSG:32610&quot;, &quot;datetime&quot;: &quot;2023-01-18&quot;, &quot;location&quot;: &quot;/tmp/example_rasters/landsat/0_20230118.tif&quot;, &quot;target_id&quot;: 2}, &quot;type&quot;: &quot;Feature&quot;}, {&quot;bbox&quot;: [-118.35703273774108, 43.77178738709383, -118.34804958489988, 43.778273855017446], &quot;geometry&quot;: {&quot;coordinates&quot;: [[[-118.35703273774108, 43.778273855017446], [-118.34804958489988, 43.778273855017446], [-118.34804958489988, 43.77178738709383], [-118.35703273774108, 43.77178738709383], [-118.35703273774108, 43.778273855017446]]], &quot;type&quot;: &quot;Polygon&quot;}, &quot;id&quot;: &quot;7&quot;, &quot;properties&quot;: {&quot;collection&quot;: &quot;target&quot;, &quot;crs&quot;: &quot;EPSG:4326&quot;, &quot;datetime&quot;: &quot;2023-01-22&quot;, &quot;location&quot;: &quot;/tmp/example_rasters/targets/0_20230122.tif&quot;, &quot;target_id&quot;: 2}, &quot;type&quot;: &quot;Feature&quot;}, {&quot;bbox&quot;: [-118.35636224822898, 43.77154088125919, -118.34737909538778, 43.77802734918281], &quot;geometry&quot;: {&quot;coordinates&quot;: [[[-118.34737909538778, 43.77154088125919], [-118.35636224822898, 43.77154088125919], [-118.35636224822898, 43.77802734918281], [-118.34737909538778, 43.77802734918281], [-118.34737909538778, 43.77154088125919]]], &quot;type&quot;: &quot;Polygon&quot;}, &quot;id&quot;: &quot;8&quot;, &quot;properties&quot;: {&quot;collection&quot;: &quot;sentinel2&quot;, &quot;crs&quot;: &quot;EPSG:3857&quot;, &quot;datetime&quot;: &quot;2023-01-19&quot;, &quot;location&quot;: &quot;/tmp/example_rasters/sentinel2/0_20230119.tif&quot;, &quot;target_id&quot;: 2}, &quot;type&quot;: &quot;Feature&quot;}, {&quot;bbox&quot;: [-118.35627276373634, 43.77065072402028, -118.34728961089515, 43.77713719194389], &quot;geometry&quot;: {&quot;coordinates&quot;: [[[-118.34728961089515, 43.77065072402028], [-118.35627276373634, 43.77065072402028], [-118.35627276373634, 43.77713719194389], [-118.34728961089515, 43.77713719194389], [-118.34728961089515, 43.77065072402028]]], &quot;type&quot;: &quot;Polygon&quot;}, &quot;id&quot;: &quot;9&quot;, &quot;properties&quot;: {&quot;collection&quot;: &quot;sentinel2&quot;, &quot;crs&quot;: &quot;EPSG:3857&quot;, &quot;datetime&quot;: &quot;2023-01-20&quot;, &quot;location&quot;: &quot;/tmp/example_rasters/sentinel2/0_20230120.tif&quot;, &quot;target_id&quot;: 2}, &quot;type&quot;: &quot;Feature&quot;}, {&quot;bbox&quot;: [-118.35646479140152, 43.770635035941446, -118.34748163856032, 43.77712150386506], &quot;geometry&quot;: {&quot;coordinates&quot;: [[[-118.34748163856032, 43.770635035941446], [-118.35646479140152, 43.770635035941446], [-118.35646479140152, 43.77712150386506], [-118.34748163856032, 43.77712150386506], [-118.34748163856032, 43.770635035941446]]], &quot;type&quot;: &quot;Polygon&quot;}, &quot;id&quot;: &quot;10&quot;, &quot;properties&quot;: {&quot;collection&quot;: &quot;sentinel2&quot;, &quot;crs&quot;: &quot;EPSG:3857&quot;, &quot;datetime&quot;: &quot;2023-01-17&quot;, &quot;location&quot;: &quot;/tmp/example_rasters/sentinel2/0_20230117.tif&quot;, &quot;target_id&quot;: 2}, &quot;type&quot;: &quot;Feature&quot;}, {&quot;bbox&quot;: [-118.356169290768, 43.77191937994295, -118.3471861379268, 43.778405847866566], &quot;geometry&quot;: {&quot;coordinates&quot;: [[[-118.3471861379268, 43.778405847866566], [-118.3471861379268, 43.77191937994295], [-118.356169290768, 43.77191937994295], [-118.356169290768, 43.778405847866566], [-118.3471861379268, 43.778405847866566]]], &quot;type&quot;: &quot;Polygon&quot;}, &quot;id&quot;: &quot;11&quot;, &quot;properties&quot;: {&quot;collection&quot;: &quot;landsat&quot;, &quot;crs&quot;: &quot;EPSG:32610&quot;, &quot;datetime&quot;: &quot;2023-01-26&quot;, &quot;location&quot;: &quot;/tmp/example_rasters/landsat/0_20230126.tif&quot;, &quot;target_id&quot;: 0}, &quot;type&quot;: &quot;Feature&quot;}, {&quot;bbox&quot;: [-118.35655774152929, 43.77156718307414, -118.34757458868809, 43.778053650997755], &quot;geometry&quot;: {&quot;coordinates&quot;: [[[-118.35655774152929, 43.778053650997755], [-118.34757458868809, 43.778053650997755], [-118.34757458868809, 43.77156718307414], [-118.35655774152929, 43.77156718307414], [-118.35655774152929, 43.778053650997755]]], &quot;type&quot;: &quot;Polygon&quot;}, &quot;id&quot;: &quot;12&quot;, &quot;properties&quot;: {&quot;collection&quot;: &quot;target&quot;, &quot;crs&quot;: &quot;EPSG:4326&quot;, &quot;datetime&quot;: &quot;2023-01-30&quot;, &quot;location&quot;: &quot;/tmp/example_rasters/targets/0_20230130.tif&quot;, &quot;target_id&quot;: 0}, &quot;type&quot;: &quot;Feature&quot;}, {&quot;bbox&quot;: [-118.35609693353712, 43.77118821805153, -118.34711378069592, 43.77767468597514], &quot;geometry&quot;: {&quot;coordinates&quot;: [[[-118.34711378069592, 43.77118821805153], [-118.35609693353712, 43.77118821805153], [-118.35609693353712, 43.77767468597514], [-118.34711378069592, 43.77767468597514], [-118.34711378069592, 43.77118821805153]]], &quot;type&quot;: &quot;Polygon&quot;}, &quot;id&quot;: &quot;13&quot;, &quot;properties&quot;: {&quot;collection&quot;: &quot;sentinel2&quot;, &quot;crs&quot;: &quot;EPSG:3857&quot;, &quot;datetime&quot;: &quot;2023-01-23&quot;, &quot;location&quot;: &quot;/tmp/example_rasters/sentinel2/0_20230123.tif&quot;, &quot;target_id&quot;: 0}, &quot;type&quot;: &quot;Feature&quot;}, {&quot;bbox&quot;: [-117.84821877612048, 48.94185783796349, -117.8392356232793, 48.94775789147454], &quot;geometry&quot;: {&quot;coordinates&quot;: [[[-117.8392356232793, 48.94775789147454], [-117.8392356232793, 48.94185783796349], [-117.84821877612048, 48.94185783796349], [-117.84821877612048, 48.94775789147454], [-117.8392356232793, 48.94775789147454]]], &quot;type&quot;: &quot;Polygon&quot;}, &quot;id&quot;: &quot;14&quot;, &quot;properties&quot;: {&quot;collection&quot;: &quot;landsat&quot;, &quot;crs&quot;: &quot;EPSG:32610&quot;, &quot;datetime&quot;: &quot;2023-01-27&quot;, &quot;location&quot;: &quot;/tmp/example_rasters/landsat/1_20230127.tif&quot;, &quot;target_id&quot;: 5}, &quot;type&quot;: &quot;Feature&quot;}, {&quot;bbox&quot;: [-117.84832431577443, 48.94152754035333, -117.83934116293325, 48.947427593864376], &quot;geometry&quot;: {&quot;coordinates&quot;: [[[-117.84832431577443, 48.947427593864376], [-117.83934116293325, 48.947427593864376], [-117.83934116293325, 48.94152754035333], [-117.84832431577443, 48.94152754035333], [-117.84832431577443, 48.947427593864376]]], &quot;type&quot;: &quot;Polygon&quot;}, &quot;id&quot;: &quot;15&quot;, &quot;properties&quot;: {&quot;collection&quot;: &quot;target&quot;, &quot;crs&quot;: &quot;EPSG:4326&quot;, &quot;datetime&quot;: &quot;2023-01-28&quot;, &quot;location&quot;: &quot;/tmp/example_rasters/targets/1_20230128.tif&quot;, &quot;target_id&quot;: 5}, &quot;type&quot;: &quot;Feature&quot;}, {&quot;bbox&quot;: [-117.84888631528025, 48.94193808954735, -117.83990316243907, 48.9478381430584], &quot;geometry&quot;: {&quot;coordinates&quot;: [[[-117.83990316243907, 48.94193808954735], [-117.84888631528025, 48.94193808954735], [-117.84888631528025, 48.9478381430584], [-117.83990316243907, 48.9478381430584], [-117.83990316243907, 48.94193808954735]]], &quot;type&quot;: &quot;Polygon&quot;}, &quot;id&quot;: &quot;16&quot;, &quot;properties&quot;: {&quot;collection&quot;: &quot;sentinel2&quot;, &quot;crs&quot;: &quot;EPSG:3857&quot;, &quot;datetime&quot;: &quot;2023-01-25&quot;, &quot;location&quot;: &quot;/tmp/example_rasters/sentinel2/1_20230125.tif&quot;, &quot;target_id&quot;: 5}, &quot;type&quot;: &quot;Feature&quot;}, {&quot;bbox&quot;: [-117.84906941821379, 48.94091530152257, -117.8400862653726, 48.94681535503362], &quot;geometry&quot;: {&quot;coordinates&quot;: [[[-117.8400862653726, 48.94091530152257], [-117.84906941821379, 48.94091530152257], [-117.84906941821379, 48.94681535503362], [-117.8400862653726, 48.94681535503362], [-117.8400862653726, 48.94091530152257]]], &quot;type&quot;: &quot;Polygon&quot;}, &quot;id&quot;: &quot;17&quot;, &quot;properties&quot;: {&quot;collection&quot;: &quot;sentinel2&quot;, &quot;crs&quot;: &quot;EPSG:3857&quot;, &quot;datetime&quot;: &quot;2023-01-21&quot;, &quot;location&quot;: &quot;/tmp/example_rasters/sentinel2/1_20230121.tif&quot;, &quot;target_id&quot;: 5}, &quot;type&quot;: &quot;Feature&quot;}, {&quot;bbox&quot;: [-117.8487972994355, 48.94141181145824, -117.83981414659432, 48.947311864969286], &quot;geometry&quot;: {&quot;coordinates&quot;: [[[-117.83981414659432, 48.947311864969286], [-117.83981414659432, 48.94141181145824], [-117.8487972994355, 48.94141181145824], [-117.8487972994355, 48.947311864969286], [-117.83981414659432, 48.947311864969286]]], &quot;type&quot;: &quot;Polygon&quot;}, &quot;id&quot;: &quot;18&quot;, &quot;properties&quot;: {&quot;collection&quot;: &quot;landsat&quot;, &quot;crs&quot;: &quot;EPSG:32610&quot;, &quot;datetime&quot;: &quot;2023-01-27&quot;, &quot;location&quot;: &quot;/tmp/example_rasters/landsat/1_20230127.tif&quot;, &quot;target_id&quot;: 4}, &quot;type&quot;: &quot;Feature&quot;}, {&quot;bbox&quot;: [-117.84758568792391, 48.9419946487146, -117.83860253508273, 48.947894702225646], &quot;geometry&quot;: {&quot;coordinates&quot;: [[[-117.84758568792391, 48.947894702225646], [-117.83860253508273, 48.947894702225646], [-117.83860253508273, 48.9419946487146], [-117.84758568792391, 48.9419946487146], [-117.84758568792391, 48.947894702225646]]], &quot;type&quot;: &quot;Polygon&quot;}, &quot;id&quot;: &quot;19&quot;, &quot;properties&quot;: {&quot;collection&quot;: &quot;target&quot;, &quot;crs&quot;: &quot;EPSG:4326&quot;, &quot;datetime&quot;: &quot;2023-01-30&quot;, &quot;location&quot;: &quot;/tmp/example_rasters/targets/1_20230130.tif&quot;, &quot;target_id&quot;: 4}, &quot;type&quot;: &quot;Feature&quot;}, {&quot;bbox&quot;: [-117.84743074990418, 48.94172920875537, -117.838447597063, 48.94762926226642], &quot;geometry&quot;: {&quot;coordinates&quot;: [[[-117.838447597063, 48.94172920875537], [-117.84743074990418, 48.94172920875537], [-117.84743074990418, 48.94762926226642], [-117.838447597063, 48.94762926226642], [-117.838447597063, 48.94172920875537]]], &quot;type&quot;: &quot;Polygon&quot;}, &quot;id&quot;: &quot;20&quot;, &quot;properties&quot;: {&quot;collection&quot;: &quot;sentinel2&quot;, &quot;crs&quot;: &quot;EPSG:3857&quot;, &quot;datetime&quot;: &quot;2023-01-25&quot;, &quot;location&quot;: &quot;/tmp/example_rasters/sentinel2/1_20230125.tif&quot;, &quot;target_id&quot;: 4}, &quot;type&quot;: &quot;Feature&quot;}, {&quot;bbox&quot;: [-122.43581084827352, 54.50716370058629, -122.42682769543232, 54.51237898799177], &quot;geometry&quot;: {&quot;coordinates&quot;: [[[-122.43581084827352, 54.51237898799177], [-122.42682769543232, 54.51237898799177], [-122.42682769543232, 54.50716370058629], [-122.43581084827352, 54.50716370058629], [-122.43581084827352, 54.51237898799177]]], &quot;type&quot;: &quot;Polygon&quot;}, &quot;id&quot;: &quot;21&quot;, &quot;properties&quot;: {&quot;collection&quot;: &quot;landsat&quot;, &quot;crs&quot;: &quot;EPSG:32610&quot;, &quot;datetime&quot;: &quot;2023-01-25&quot;, &quot;location&quot;: &quot;/tmp/example_rasters/landsat/2_20230125.tif&quot;, &quot;target_id&quot;: 6}, &quot;type&quot;: &quot;Feature&quot;}, {&quot;bbox&quot;: [-122.4350058872145, 54.50765963858991, -122.4260227343733, 54.51287492599538], &quot;geometry&quot;: {&quot;coordinates&quot;: [[[-122.4260227343733, 54.51287492599538], [-122.4260227343733, 54.50765963858991], [-122.4350058872145, 54.50765963858991], [-122.4350058872145, 54.51287492599538], [-122.4260227343733, 54.51287492599538]]], &quot;type&quot;: &quot;Polygon&quot;}, &quot;id&quot;: &quot;22&quot;, &quot;properties&quot;: {&quot;collection&quot;: &quot;target&quot;, &quot;crs&quot;: &quot;EPSG:4326&quot;, &quot;datetime&quot;: &quot;2023-01-30&quot;, &quot;location&quot;: &quot;/tmp/example_rasters/targets/2_20230130.tif&quot;, &quot;target_id&quot;: 6}, &quot;type&quot;: &quot;Feature&quot;}, {&quot;bbox&quot;: [-122.43568957313522, 54.50741499303326, -122.42670642029402, 54.512630280438735], &quot;geometry&quot;: {&quot;coordinates&quot;: [[[-122.42670642029402, 54.50741499303326], [-122.43568957313522, 54.50741499303326], [-122.43568957313522, 54.512630280438735], [-122.42670642029402, 54.512630280438735], [-122.42670642029402, 54.50741499303326]]], &quot;type&quot;: &quot;Polygon&quot;}, &quot;id&quot;: &quot;23&quot;, &quot;properties&quot;: {&quot;collection&quot;: &quot;sentinel2&quot;, &quot;crs&quot;: &quot;EPSG:3857&quot;, &quot;datetime&quot;: &quot;2023-01-28&quot;, &quot;location&quot;: &quot;/tmp/example_rasters/sentinel2/2_20230128.tif&quot;, &quot;target_id&quot;: 6}, &quot;type&quot;: &quot;Feature&quot;}, {&quot;bbox&quot;: [-118.432880149173, 50.715981485271946, -118.4238969963318, 50.72166900459897], &quot;geometry&quot;: {&quot;coordinates&quot;: [[[-118.4238969963318, 50.72166900459897], [-118.4238969963318, 50.715981485271946], [-118.432880149173, 50.715981485271946], [-118.432880149173, 50.72166900459897], [-118.4238969963318, 50.72166900459897]]], &quot;type&quot;: &quot;Polygon&quot;}, &quot;id&quot;: &quot;24&quot;, &quot;properties&quot;: {&quot;collection&quot;: &quot;landsat&quot;, &quot;crs&quot;: &quot;EPSG:32610&quot;, &quot;datetime&quot;: &quot;2023-01-04&quot;, &quot;location&quot;: &quot;/tmp/example_rasters/landsat/3_20230104.tif&quot;, &quot;target_id&quot;: 10}, &quot;type&quot;: &quot;Feature&quot;}, {&quot;bbox&quot;: [-118.43216668358686, 50.715714941550964, -118.42318353074566, 50.72140246087799], &quot;geometry&quot;: {&quot;coordinates&quot;: [[[-118.42318353074566, 50.72140246087799], [-118.42318353074566, 50.715714941550964], [-118.43216668358686, 50.715714941550964], [-118.43216668358686, 50.72140246087799], [-118.42318353074566, 50.72140246087799]]], &quot;type&quot;: &quot;Polygon&quot;}, &quot;id&quot;: &quot;25&quot;, &quot;properties&quot;: {&quot;collection&quot;: &quot;landsat&quot;, &quot;crs&quot;: &quot;EPSG:32610&quot;, &quot;datetime&quot;: &quot;2023-01-01&quot;, &quot;location&quot;: &quot;/tmp/example_rasters/landsat/3_20230101.tif&quot;, &quot;target_id&quot;: 10}, &quot;type&quot;: &quot;Feature&quot;}, {&quot;bbox&quot;: [-118.43287584237387, 50.71633679670872, -118.42389268953268, 50.72202431603574], &quot;geometry&quot;: {&quot;coordinates&quot;: [[[-118.43287584237387, 50.72202431603574], [-118.42389268953268, 50.72202431603574], [-118.42389268953268, 50.71633679670872], [-118.43287584237387, 50.71633679670872], [-118.43287584237387, 50.72202431603574]]], &quot;type&quot;: &quot;Polygon&quot;}, &quot;id&quot;: &quot;26&quot;, &quot;properties&quot;: {&quot;collection&quot;: &quot;target&quot;, &quot;crs&quot;: &quot;EPSG:4326&quot;, &quot;datetime&quot;: &quot;2023-01-05&quot;, &quot;location&quot;: &quot;/tmp/example_rasters/targets/3_20230105.tif&quot;, &quot;target_id&quot;: 10}, &quot;type&quot;: &quot;Feature&quot;}, {&quot;bbox&quot;: [-118.43319225977542, 50.71514323428197, -118.42420910693423, 50.72083075360899], &quot;geometry&quot;: {&quot;coordinates&quot;: [[[-118.42420910693423, 50.71514323428197], [-118.43319225977542, 50.71514323428197], [-118.43319225977542, 50.72083075360899], [-118.42420910693423, 50.72083075360899], [-118.42420910693423, 50.71514323428197]]], &quot;type&quot;: &quot;Polygon&quot;}, &quot;id&quot;: &quot;27&quot;, &quot;properties&quot;: {&quot;collection&quot;: &quot;sentinel2&quot;, &quot;crs&quot;: &quot;EPSG:3857&quot;, &quot;datetime&quot;: &quot;2023-01-04&quot;, &quot;location&quot;: &quot;/tmp/example_rasters/sentinel2/3_20230104.tif&quot;, &quot;target_id&quot;: 10}, &quot;type&quot;: &quot;Feature&quot;}, {&quot;bbox&quot;: [-118.43299020833571, 50.715375052063976, -118.42400705549451, 50.721062571391], &quot;geometry&quot;: {&quot;coordinates&quot;: [[[-118.42400705549451, 50.715375052063976], [-118.43299020833571, 50.715375052063976], [-118.43299020833571, 50.721062571391], [-118.42400705549451, 50.721062571391], [-118.42400705549451, 50.715375052063976]]], &quot;type&quot;: &quot;Polygon&quot;}, &quot;id&quot;: &quot;28&quot;, &quot;properties&quot;: {&quot;collection&quot;: &quot;sentinel2&quot;, &quot;crs&quot;: &quot;EPSG:3857&quot;, &quot;datetime&quot;: &quot;2023-01-03&quot;, &quot;location&quot;: &quot;/tmp/example_rasters/sentinel2/3_20230103.tif&quot;, &quot;target_id&quot;: 10}, &quot;type&quot;: &quot;Feature&quot;}, {&quot;bbox&quot;: [-118.43296602599524, 50.71604043630683, -118.42398287315405, 50.72172795563385], &quot;geometry&quot;: {&quot;coordinates&quot;: [[[-118.42398287315405, 50.72172795563385], [-118.42398287315405, 50.71604043630683], [-118.43296602599524, 50.71604043630683], [-118.43296602599524, 50.72172795563385], [-118.42398287315405, 50.72172795563385]]], &quot;type&quot;: &quot;Polygon&quot;}, &quot;id&quot;: &quot;29&quot;, &quot;properties&quot;: {&quot;collection&quot;: &quot;landsat&quot;, &quot;crs&quot;: &quot;EPSG:32610&quot;, &quot;datetime&quot;: &quot;2023-01-13&quot;, &quot;location&quot;: &quot;/tmp/example_rasters/landsat/3_20230113.tif&quot;, &quot;target_id&quot;: 9}, &quot;type&quot;: &quot;Feature&quot;}, {&quot;bbox&quot;: [-118.43225576097642, 50.71541702101996, -118.42327260813522, 50.721104540346985], &quot;geometry&quot;: {&quot;coordinates&quot;: [[[-118.42327260813522, 50.721104540346985], [-118.42327260813522, 50.71541702101996], [-118.43225576097642, 50.71541702101996], [-118.43225576097642, 50.721104540346985], [-118.42327260813522, 50.721104540346985]]], &quot;type&quot;: &quot;Polygon&quot;}, &quot;id&quot;: &quot;30&quot;, &quot;properties&quot;: {&quot;collection&quot;: &quot;landsat&quot;, &quot;crs&quot;: &quot;EPSG:32610&quot;, &quot;datetime&quot;: &quot;2023-01-08&quot;, &quot;location&quot;: &quot;/tmp/example_rasters/landsat/3_20230108.tif&quot;, &quot;target_id&quot;: 9}, &quot;type&quot;: &quot;Feature&quot;}, {&quot;bbox&quot;: [-118.4333688013075, 50.715206174328955, -118.4243856484663, 50.72089369365598], &quot;geometry&quot;: {&quot;coordinates&quot;: [[[-118.4333688013075, 50.72089369365598], [-118.4243856484663, 50.72089369365598], [-118.4243856484663, 50.715206174328955], [-118.4333688013075, 50.715206174328955], [-118.4333688013075, 50.72089369365598]]], &quot;type&quot;: &quot;Polygon&quot;}, &quot;id&quot;: &quot;31&quot;, &quot;properties&quot;: {&quot;collection&quot;: &quot;target&quot;, &quot;crs&quot;: &quot;EPSG:4326&quot;, &quot;datetime&quot;: &quot;2023-01-15&quot;, &quot;location&quot;: &quot;/tmp/example_rasters/targets/3_20230115.tif&quot;, &quot;target_id&quot;: 9}, &quot;type&quot;: &quot;Feature&quot;}, {&quot;bbox&quot;: [-118.43218881546301, 50.71471813150821, -118.42320566262181, 50.72040565083523], &quot;geometry&quot;: {&quot;coordinates&quot;: [[[-118.42320566262181, 50.71471813150821], [-118.43218881546301, 50.71471813150821], [-118.43218881546301, 50.72040565083523], [-118.42320566262181, 50.72040565083523], [-118.42320566262181, 50.71471813150821]]], &quot;type&quot;: &quot;Polygon&quot;}, &quot;id&quot;: &quot;32&quot;, &quot;properties&quot;: {&quot;collection&quot;: &quot;sentinel2&quot;, &quot;crs&quot;: &quot;EPSG:3857&quot;, &quot;datetime&quot;: &quot;2023-01-09&quot;, &quot;location&quot;: &quot;/tmp/example_rasters/sentinel2/3_20230109.tif&quot;, &quot;target_id&quot;: 9}, &quot;type&quot;: &quot;Feature&quot;}, {&quot;bbox&quot;: [-118.4337573751527, 50.71608254517466, -118.4247742223115, 50.72177006450168], &quot;geometry&quot;: {&quot;coordinates&quot;: [[[-118.4247742223115, 50.72177006450168], [-118.4247742223115, 50.71608254517466], [-118.4337573751527, 50.71608254517466], [-118.4337573751527, 50.72177006450168], [-118.4247742223115, 50.72177006450168]]], &quot;type&quot;: &quot;Polygon&quot;}, &quot;id&quot;: &quot;33&quot;, &quot;properties&quot;: {&quot;collection&quot;: &quot;landsat&quot;, &quot;crs&quot;: &quot;EPSG:32610&quot;, &quot;datetime&quot;: &quot;2023-01-16&quot;, &quot;location&quot;: &quot;/tmp/example_rasters/landsat/3_20230116.tif&quot;, &quot;target_id&quot;: 11}, &quot;type&quot;: &quot;Feature&quot;}, {&quot;bbox&quot;: [-118.43395541565533, 50.716309610606515, -118.42497226281414, 50.72199712993354], &quot;geometry&quot;: {&quot;coordinates&quot;: [[[-118.42497226281414, 50.72199712993354], [-118.42497226281414, 50.716309610606515], [-118.43395541565533, 50.716309610606515], [-118.43395541565533, 50.72199712993354], [-118.42497226281414, 50.72199712993354]]], &quot;type&quot;: &quot;Polygon&quot;}, &quot;id&quot;: &quot;34&quot;, &quot;properties&quot;: {&quot;collection&quot;: &quot;landsat&quot;, &quot;crs&quot;: &quot;EPSG:32610&quot;, &quot;datetime&quot;: &quot;2023-01-13&quot;, &quot;location&quot;: &quot;/tmp/example_rasters/landsat/3_20230113.tif&quot;, &quot;target_id&quot;: 11}, &quot;type&quot;: &quot;Feature&quot;}, {&quot;bbox&quot;: [-118.43249242329469, 50.714694186796095, -118.4235092704535, 50.72038170612312], &quot;geometry&quot;: {&quot;coordinates&quot;: [[[-118.4235092704535, 50.72038170612312], [-118.4235092704535, 50.714694186796095], [-118.43249242329469, 50.714694186796095], [-118.43249242329469, 50.72038170612312], [-118.4235092704535, 50.72038170612312]]], &quot;type&quot;: &quot;Polygon&quot;}, &quot;id&quot;: &quot;35&quot;, &quot;properties&quot;: {&quot;collection&quot;: &quot;landsat&quot;, &quot;crs&quot;: &quot;EPSG:32610&quot;, &quot;datetime&quot;: &quot;2023-01-15&quot;, &quot;location&quot;: &quot;/tmp/example_rasters/landsat/3_20230115.tif&quot;, &quot;target_id&quot;: 11}, &quot;type&quot;: &quot;Feature&quot;}, {&quot;bbox&quot;: [-118.4333451323087, 50.71575427530887, -118.4243619794675, 50.72144179463589], &quot;geometry&quot;: {&quot;coordinates&quot;: [[[-118.4333451323087, 50.72144179463589], [-118.4243619794675, 50.72144179463589], [-118.4243619794675, 50.71575427530887], [-118.4333451323087, 50.71575427530887], [-118.4333451323087, 50.72144179463589]]], &quot;type&quot;: &quot;Polygon&quot;}, &quot;id&quot;: &quot;36&quot;, &quot;properties&quot;: {&quot;collection&quot;: &quot;target&quot;, &quot;crs&quot;: &quot;EPSG:4326&quot;, &quot;datetime&quot;: &quot;2023-01-20&quot;, &quot;location&quot;: &quot;/tmp/example_rasters/targets/3_20230120.tif&quot;, &quot;target_id&quot;: 11}, &quot;type&quot;: &quot;Feature&quot;}, {&quot;bbox&quot;: [-118.43353586525134, 50.71494537429491, -118.42455271241015, 50.72063289362194], &quot;geometry&quot;: {&quot;coordinates&quot;: [[[-118.42455271241015, 50.71494537429491], [-118.43353586525134, 50.71494537429491], [-118.43353586525134, 50.72063289362194], [-118.42455271241015, 50.72063289362194], [-118.42455271241015, 50.71494537429491]]], &quot;type&quot;: &quot;Polygon&quot;}, &quot;id&quot;: &quot;37&quot;, &quot;properties&quot;: {&quot;collection&quot;: &quot;sentinel2&quot;, &quot;crs&quot;: &quot;EPSG:3857&quot;, &quot;datetime&quot;: &quot;2023-01-15&quot;, &quot;location&quot;: &quot;/tmp/example_rasters/sentinel2/3_20230115.tif&quot;, &quot;target_id&quot;: 11}, &quot;type&quot;: &quot;Feature&quot;}, {&quot;bbox&quot;: [-122.23173637317606, 44.001352740954154, -122.22275322033487, 44.00781419149318], &quot;geometry&quot;: {&quot;coordinates&quot;: [[[-122.22275322033487, 44.00781419149318], [-122.22275322033487, 44.001352740954154], [-122.23173637317606, 44.001352740954154], [-122.23173637317606, 44.00781419149318], [-122.22275322033487, 44.00781419149318]]], &quot;type&quot;: &quot;Polygon&quot;}, &quot;id&quot;: &quot;38&quot;, &quot;properties&quot;: {&quot;collection&quot;: &quot;landsat&quot;, &quot;crs&quot;: &quot;EPSG:32610&quot;, &quot;datetime&quot;: &quot;2023-01-15&quot;, &quot;location&quot;: &quot;/tmp/example_rasters/landsat/4_20230115.tif&quot;, &quot;target_id&quot;: 13}, &quot;type&quot;: &quot;Feature&quot;}, {&quot;bbox&quot;: [-122.2315096692437, 44.00161170995539, -122.22252651640251, 44.00807316049442], &quot;geometry&quot;: {&quot;coordinates&quot;: [[[-122.22252651640251, 44.00807316049442], [-122.22252651640251, 44.00161170995539], [-122.2315096692437, 44.00161170995539], [-122.2315096692437, 44.00807316049442], [-122.22252651640251, 44.00807316049442]]], &quot;type&quot;: &quot;Polygon&quot;}, &quot;id&quot;: &quot;39&quot;, &quot;properties&quot;: {&quot;collection&quot;: &quot;landsat&quot;, &quot;crs&quot;: &quot;EPSG:32610&quot;, &quot;datetime&quot;: &quot;2023-01-17&quot;, &quot;location&quot;: &quot;/tmp/example_rasters/landsat/4_20230117.tif&quot;, &quot;target_id&quot;: 13}, &quot;type&quot;: &quot;Feature&quot;}, {&quot;bbox&quot;: [-122.231976719339, 44.001296231363064, -122.2229935664978, 44.00775768190209], &quot;geometry&quot;: {&quot;coordinates&quot;: [[[-122.2229935664978, 44.001296231363064], [-122.231976719339, 44.001296231363064], [-122.231976719339, 44.00775768190209], [-122.2229935664978, 44.00775768190209], [-122.2229935664978, 44.001296231363064]]], &quot;type&quot;: &quot;Polygon&quot;}, &quot;id&quot;: &quot;40&quot;, &quot;properties&quot;: {&quot;collection&quot;: &quot;target&quot;, &quot;crs&quot;: &quot;EPSG:4326&quot;, &quot;datetime&quot;: &quot;2023-01-18&quot;, &quot;location&quot;: &quot;/tmp/example_rasters/targets/4_20230118.tif&quot;, &quot;target_id&quot;: 13}, &quot;type&quot;: &quot;Feature&quot;}, {&quot;bbox&quot;: [-122.23034480142242, 44.00198011991915, -122.22136164858122, 44.00844157045818], &quot;geometry&quot;: {&quot;coordinates&quot;: [[[-122.22136164858122, 44.00198011991915], [-122.23034480142242, 44.00198011991915], [-122.23034480142242, 44.00844157045818], [-122.22136164858122, 44.00844157045818], [-122.22136164858122, 44.00198011991915]]], &quot;type&quot;: &quot;Polygon&quot;}, &quot;id&quot;: &quot;41&quot;, &quot;properties&quot;: {&quot;collection&quot;: &quot;sentinel2&quot;, &quot;crs&quot;: &quot;EPSG:3857&quot;, &quot;datetime&quot;: &quot;2023-01-15&quot;, &quot;location&quot;: &quot;/tmp/example_rasters/sentinel2/4_20230115.tif&quot;, &quot;target_id&quot;: 13}, &quot;type&quot;: &quot;Feature&quot;}, {&quot;bbox&quot;: [-122.23178618327313, 44.001296589898146, -122.22280303043193, 44.007758040437174], &quot;geometry&quot;: {&quot;coordinates&quot;: [[[-122.22280303043193, 44.001296589898146], [-122.23178618327313, 44.001296589898146], [-122.23178618327313, 44.007758040437174], [-122.22280303043193, 44.007758040437174], [-122.22280303043193, 44.001296589898146]]], &quot;type&quot;: &quot;Polygon&quot;}, &quot;id&quot;: &quot;42&quot;, &quot;properties&quot;: {&quot;collection&quot;: &quot;sentinel2&quot;, &quot;crs&quot;: &quot;EPSG:3857&quot;, &quot;datetime&quot;: &quot;2023-01-14&quot;, &quot;location&quot;: &quot;/tmp/example_rasters/sentinel2/4_20230114.tif&quot;, &quot;target_id&quot;: 13}, &quot;type&quot;: &quot;Feature&quot;}, {&quot;bbox&quot;: [-122.23183802337148, 44.001273186740434, -122.22285487053028, 44.00773463727946], &quot;geometry&quot;: {&quot;coordinates&quot;: [[[-122.22285487053028, 44.00773463727946], [-122.22285487053028, 44.001273186740434], [-122.23183802337148, 44.001273186740434], [-122.23183802337148, 44.00773463727946], [-122.22285487053028, 44.00773463727946]]], &quot;type&quot;: &quot;Polygon&quot;}, &quot;id&quot;: &quot;43&quot;, &quot;properties&quot;: {&quot;collection&quot;: &quot;landsat&quot;, &quot;crs&quot;: &quot;EPSG:32610&quot;, &quot;datetime&quot;: &quot;2023-01-22&quot;, &quot;location&quot;: &quot;/tmp/example_rasters/landsat/4_20230122.tif&quot;, &quot;target_id&quot;: 12}, &quot;type&quot;: &quot;Feature&quot;}, {&quot;bbox&quot;: [-122.2310671700599, 44.00160978182613, -122.2220840172187, 44.00807123236516], &quot;geometry&quot;: {&quot;coordinates&quot;: [[[-122.2220840172187, 44.00807123236516], [-122.2220840172187, 44.00160978182613], [-122.2310671700599, 44.00160978182613], [-122.2310671700599, 44.00807123236516], [-122.2220840172187, 44.00807123236516]]], &quot;type&quot;: &quot;Polygon&quot;}, &quot;id&quot;: &quot;44&quot;, &quot;properties&quot;: {&quot;collection&quot;: &quot;landsat&quot;, &quot;crs&quot;: &quot;EPSG:32610&quot;, &quot;datetime&quot;: &quot;2023-01-26&quot;, &quot;location&quot;: &quot;/tmp/example_rasters/landsat/4_20230126.tif&quot;, &quot;target_id&quot;: 12}, &quot;type&quot;: &quot;Feature&quot;}, {&quot;bbox&quot;: [-122.23147328179697, 44.00111501205179, -122.22249012895577, 44.00757646259082], &quot;geometry&quot;: {&quot;coordinates&quot;: [[[-122.22249012895577, 44.00757646259082], [-122.22249012895577, 44.00111501205179], [-122.23147328179697, 44.00111501205179], [-122.23147328179697, 44.00757646259082], [-122.22249012895577, 44.00757646259082]]], &quot;type&quot;: &quot;Polygon&quot;}, &quot;id&quot;: &quot;45&quot;, &quot;properties&quot;: {&quot;collection&quot;: &quot;target&quot;, &quot;crs&quot;: &quot;EPSG:4326&quot;, &quot;datetime&quot;: &quot;2023-01-28&quot;, &quot;location&quot;: &quot;/tmp/example_rasters/targets/4_20230128.tif&quot;, &quot;target_id&quot;: 12}, &quot;type&quot;: &quot;Feature&quot;}, {&quot;bbox&quot;: [-122.23040075230023, 44.001731728821454, -122.22141759945903, 44.00819317936048], &quot;geometry&quot;: {&quot;coordinates&quot;: [[[-122.22141759945903, 44.001731728821454], [-122.23040075230023, 44.001731728821454], [-122.23040075230023, 44.00819317936048], [-122.22141759945903, 44.00819317936048], [-122.22141759945903, 44.001731728821454]]], &quot;type&quot;: &quot;Polygon&quot;}, &quot;id&quot;: &quot;46&quot;, &quot;properties&quot;: {&quot;collection&quot;: &quot;sentinel2&quot;, &quot;crs&quot;: &quot;EPSG:3857&quot;, &quot;datetime&quot;: &quot;2023-01-21&quot;, &quot;location&quot;: &quot;/tmp/example_rasters/sentinel2/4_20230121.tif&quot;, &quot;target_id&quot;: 12}, &quot;type&quot;: &quot;Feature&quot;}, {&quot;bbox&quot;: [-122.23227154958194, 44.00187794491002, -122.22328839674074, 44.00833939544905], &quot;geometry&quot;: {&quot;coordinates&quot;: [[[-122.22328839674074, 44.00187794491002], [-122.23227154958194, 44.00187794491002], [-122.23227154958194, 44.00833939544905], [-122.22328839674074, 44.00833939544905], [-122.22328839674074, 44.00187794491002]]], &quot;type&quot;: &quot;Polygon&quot;}, &quot;id&quot;: &quot;47&quot;, &quot;properties&quot;: {&quot;collection&quot;: &quot;sentinel2&quot;, &quot;crs&quot;: &quot;EPSG:3857&quot;, &quot;datetime&quot;: &quot;2023-01-24&quot;, &quot;location&quot;: &quot;/tmp/example_rasters/sentinel2/4_20230124.tif&quot;, &quot;target_id&quot;: 12}, &quot;type&quot;: &quot;Feature&quot;}, {&quot;bbox&quot;: [-122.23144563613785, 44.00170593596418, -122.22246248329665, 44.00816738650321], &quot;geometry&quot;: {&quot;coordinates&quot;: [[[-122.22246248329665, 44.00170593596418], [-122.23144563613785, 44.00170593596418], [-122.23144563613785, 44.00816738650321], [-122.22246248329665, 44.00816738650321], [-122.22246248329665, 44.00170593596418]]], &quot;type&quot;: &quot;Polygon&quot;}, &quot;id&quot;: &quot;48&quot;, &quot;properties&quot;: {&quot;collection&quot;: &quot;sentinel2&quot;, &quot;crs&quot;: &quot;EPSG:3857&quot;, &quot;datetime&quot;: &quot;2023-01-27&quot;, &quot;location&quot;: &quot;/tmp/example_rasters/sentinel2/4_20230127.tif&quot;, &quot;target_id&quot;: 12}, &quot;type&quot;: &quot;Feature&quot;}, {&quot;bbox&quot;: [-122.23160877038617, 44.001915903422386, -122.22262561754498, 44.008377353961414], &quot;geometry&quot;: {&quot;coordinates&quot;: [[[-122.22262561754498, 44.001915903422386], [-122.23160877038617, 44.001915903422386], [-122.23160877038617, 44.008377353961414], [-122.22262561754498, 44.008377353961414], [-122.22262561754498, 44.001915903422386]]], &quot;type&quot;: &quot;Polygon&quot;}, &quot;id&quot;: &quot;49&quot;, &quot;properties&quot;: {&quot;collection&quot;: &quot;sentinel2&quot;, &quot;crs&quot;: &quot;EPSG:3857&quot;, &quot;datetime&quot;: &quot;2023-01-22&quot;, &quot;location&quot;: &quot;/tmp/example_rasters/sentinel2/4_20230122.tif&quot;, &quot;target_id&quot;: 12}, &quot;type&quot;: &quot;Feature&quot;}, {&quot;bbox&quot;: [-120.77570212193163, 53.53011408506974, -120.76671896909043, 53.535453355720875], &quot;geometry&quot;: {&quot;coordinates&quot;: [[[-120.77570212193163, 53.53011408506974], [-120.77570212193163, 53.535453355720875], [-120.76671896909043, 53.535453355720875], [-120.76671896909043, 53.53011408506974], [-120.77570212193163, 53.53011408506974]]], &quot;type&quot;: &quot;Polygon&quot;}, &quot;id&quot;: &quot;50&quot;, &quot;properties&quot;: {&quot;collection&quot;: &quot;landsat&quot;, &quot;crs&quot;: &quot;EPSG:32610&quot;, &quot;datetime&quot;: &quot;2023-01-21&quot;, &quot;location&quot;: &quot;/tmp/example_rasters/landsat/5_20230121.tif&quot;, &quot;target_id&quot;: 16}, &quot;type&quot;: &quot;Feature&quot;}, {&quot;bbox&quot;: [-120.77610993081272, 53.52983511832406, -120.76712677797153, 53.53517438897519], &quot;geometry&quot;: {&quot;coordinates&quot;: [[[-120.77610993081272, 53.52983511832406], [-120.77610993081272, 53.53517438897519], [-120.76712677797153, 53.53517438897519], [-120.76712677797153, 53.52983511832406], [-120.77610993081272, 53.52983511832406]]], &quot;type&quot;: &quot;Polygon&quot;}, &quot;id&quot;: &quot;51&quot;, &quot;properties&quot;: {&quot;collection&quot;: &quot;landsat&quot;, &quot;crs&quot;: &quot;EPSG:32610&quot;, &quot;datetime&quot;: &quot;2023-01-22&quot;, &quot;location&quot;: &quot;/tmp/example_rasters/landsat/5_20230122.tif&quot;, &quot;target_id&quot;: 16}, &quot;type&quot;: &quot;Feature&quot;}, {&quot;bbox&quot;: [-120.77454833805017, 53.52898966575986, -120.76556518520897, 53.53432893641099], &quot;geometry&quot;: {&quot;coordinates&quot;: [[[-120.77454833805017, 53.52898966575986], [-120.77454833805017, 53.53432893641099], [-120.76556518520897, 53.53432893641099], [-120.76556518520897, 53.52898966575986], [-120.77454833805017, 53.52898966575986]]], &quot;type&quot;: &quot;Polygon&quot;}, &quot;id&quot;: &quot;52&quot;, &quot;properties&quot;: {&quot;collection&quot;: &quot;landsat&quot;, &quot;crs&quot;: &quot;EPSG:32610&quot;, &quot;datetime&quot;: &quot;2023-01-24&quot;, &quot;location&quot;: &quot;/tmp/example_rasters/landsat/5_20230124.tif&quot;, &quot;target_id&quot;: 16}, &quot;type&quot;: &quot;Feature&quot;}, {&quot;bbox&quot;: [-120.77617033713707, 53.53063740863979, -120.76718718429588, 53.535976679290926], &quot;geometry&quot;: {&quot;coordinates&quot;: [[[-120.77617033713707, 53.53063740863979], [-120.77617033713707, 53.535976679290926], [-120.76718718429588, 53.535976679290926], [-120.76718718429588, 53.53063740863979], [-120.77617033713707, 53.53063740863979]]], &quot;type&quot;: &quot;Polygon&quot;}, &quot;id&quot;: &quot;53&quot;, &quot;properties&quot;: {&quot;collection&quot;: &quot;target&quot;, &quot;crs&quot;: &quot;EPSG:4326&quot;, &quot;datetime&quot;: &quot;2023-01-26&quot;, &quot;location&quot;: &quot;/tmp/example_rasters/targets/5_20230126.tif&quot;, &quot;target_id&quot;: 16}, &quot;type&quot;: &quot;Feature&quot;}, {&quot;bbox&quot;: [-120.77606983504816, 53.53031131320972, -120.76708668220697, 53.53565058386086], &quot;geometry&quot;: {&quot;coordinates&quot;: [[[-120.76708668220697, 53.53031131320972], [-120.77606983504816, 53.53031131320972], [-120.77606983504816, 53.53565058386086], [-120.76708668220697, 53.53565058386086], [-120.76708668220697, 53.53031131320972]]], &quot;type&quot;: &quot;Polygon&quot;}, &quot;id&quot;: &quot;54&quot;, &quot;properties&quot;: {&quot;collection&quot;: &quot;sentinel2&quot;, &quot;crs&quot;: &quot;EPSG:3857&quot;, &quot;datetime&quot;: &quot;2023-01-24&quot;, &quot;location&quot;: &quot;/tmp/example_rasters/sentinel2/5_20230124.tif&quot;, &quot;target_id&quot;: 16}, &quot;type&quot;: &quot;Feature&quot;}, {&quot;bbox&quot;: [-120.77574930220997, 53.5293435461853, -120.76676614936878, 53.53468281683644], &quot;geometry&quot;: {&quot;coordinates&quot;: [[[-120.76676614936878, 53.5293435461853], [-120.77574930220997, 53.5293435461853], [-120.77574930220997, 53.53468281683644], [-120.76676614936878, 53.53468281683644], [-120.76676614936878, 53.5293435461853]]], &quot;type&quot;: &quot;Polygon&quot;}, &quot;id&quot;: &quot;55&quot;, &quot;properties&quot;: {&quot;collection&quot;: &quot;sentinel2&quot;, &quot;crs&quot;: &quot;EPSG:3857&quot;, &quot;datetime&quot;: &quot;2023-01-21&quot;, &quot;location&quot;: &quot;/tmp/example_rasters/sentinel2/5_20230121.tif&quot;, &quot;target_id&quot;: 16}, &quot;type&quot;: &quot;Feature&quot;}, {&quot;bbox&quot;: [-120.77450789282159, 53.53011918757616, -120.76552473998039, 53.535458458227296], &quot;geometry&quot;: {&quot;coordinates&quot;: [[[-120.76552473998039, 53.53011918757616], [-120.77450789282159, 53.53011918757616], [-120.77450789282159, 53.535458458227296], [-120.76552473998039, 53.535458458227296], [-120.76552473998039, 53.53011918757616]]], &quot;type&quot;: &quot;Polygon&quot;}, &quot;id&quot;: &quot;56&quot;, &quot;properties&quot;: {&quot;collection&quot;: &quot;landsat&quot;, &quot;crs&quot;: &quot;EPSG:32610&quot;, &quot;datetime&quot;: &quot;2023-01-22&quot;, &quot;location&quot;: &quot;/tmp/example_rasters/landsat/5_20230122.tif&quot;, &quot;target_id&quot;: 15}, &quot;type&quot;: &quot;Feature&quot;}, {&quot;bbox&quot;: [-120.77594440419224, 53.53005089205006, -120.76696125135105, 53.5353901627012], &quot;geometry&quot;: {&quot;coordinates&quot;: [[[-120.76696125135105, 53.53005089205006], [-120.77594440419224, 53.53005089205006], [-120.77594440419224, 53.5353901627012], [-120.76696125135105, 53.5353901627012], [-120.76696125135105, 53.53005089205006]]], &quot;type&quot;: &quot;Polygon&quot;}, &quot;id&quot;: &quot;57&quot;, &quot;properties&quot;: {&quot;collection&quot;: &quot;landsat&quot;, &quot;crs&quot;: &quot;EPSG:32610&quot;, &quot;datetime&quot;: &quot;2023-01-24&quot;, &quot;location&quot;: &quot;/tmp/example_rasters/landsat/5_20230124.tif&quot;, &quot;target_id&quot;: 15}, &quot;type&quot;: &quot;Feature&quot;}, {&quot;bbox&quot;: [-120.77434713176065, 53.52908936388327, -120.76536397891945, 53.53442863453441], &quot;geometry&quot;: {&quot;coordinates&quot;: [[[-120.76536397891945, 53.52908936388327], [-120.77434713176065, 53.52908936388327], [-120.77434713176065, 53.53442863453441], [-120.76536397891945, 53.53442863453441], [-120.76536397891945, 53.52908936388327]]], &quot;type&quot;: &quot;Polygon&quot;}, &quot;id&quot;: &quot;58&quot;, &quot;properties&quot;: {&quot;collection&quot;: &quot;target&quot;, &quot;crs&quot;: &quot;EPSG:4326&quot;, &quot;datetime&quot;: &quot;2023-01-29&quot;, &quot;location&quot;: &quot;/tmp/example_rasters/targets/5_20230129.tif&quot;, &quot;target_id&quot;: 15}, &quot;type&quot;: &quot;Feature&quot;}, {&quot;bbox&quot;: [-120.77614538076422, 53.530731491786135, -120.76716222792302, 53.53607076243727], &quot;geometry&quot;: {&quot;coordinates&quot;: [[[-120.76716222792302, 53.530731491786135], [-120.77614538076422, 53.530731491786135], [-120.77614538076422, 53.53607076243727], [-120.76716222792302, 53.53607076243727], [-120.76716222792302, 53.530731491786135]]], &quot;type&quot;: &quot;Polygon&quot;}, &quot;id&quot;: &quot;59&quot;, &quot;properties&quot;: {&quot;collection&quot;: &quot;sentinel2&quot;, &quot;crs&quot;: &quot;EPSG:3857&quot;, &quot;datetime&quot;: &quot;2023-01-24&quot;, &quot;location&quot;: &quot;/tmp/example_rasters/sentinel2/5_20230124.tif&quot;, &quot;target_id&quot;: 15}, &quot;type&quot;: &quot;Feature&quot;}, {&quot;bbox&quot;: [-120.77482149267966, 53.52998367880763, -120.76583833983847, 53.53532294945877], &quot;geometry&quot;: {&quot;coordinates&quot;: [[[-120.76583833983847, 53.52998367880763], [-120.77482149267966, 53.52998367880763], [-120.77482149267966, 53.53532294945877], [-120.76583833983847, 53.53532294945877], [-120.76583833983847, 53.52998367880763]]], &quot;type&quot;: &quot;Polygon&quot;}, &quot;id&quot;: &quot;60&quot;, &quot;properties&quot;: {&quot;collection&quot;: &quot;sentinel2&quot;, &quot;crs&quot;: &quot;EPSG:3857&quot;, &quot;datetime&quot;: &quot;2023-01-27&quot;, &quot;location&quot;: &quot;/tmp/example_rasters/sentinel2/5_20230127.tif&quot;, &quot;target_id&quot;: 15}, &quot;type&quot;: &quot;Feature&quot;}, {&quot;bbox&quot;: [-119.13752613881525, 51.45041856892502, -119.12854298597405, 51.45601654763196], &quot;geometry&quot;: {&quot;coordinates&quot;: [[[-119.13752613881525, 51.45601654763196], [-119.12854298597405, 51.45601654763196], [-119.12854298597405, 51.45041856892502], [-119.13752613881525, 51.45041856892502], [-119.13752613881525, 51.45601654763196]]], &quot;type&quot;: &quot;Polygon&quot;}, &quot;id&quot;: &quot;61&quot;, &quot;properties&quot;: {&quot;collection&quot;: &quot;landsat&quot;, &quot;crs&quot;: &quot;EPSG:32610&quot;, &quot;datetime&quot;: &quot;2023-01-03&quot;, &quot;location&quot;: &quot;/tmp/example_rasters/landsat/6_20230103.tif&quot;, &quot;target_id&quot;: 19}, &quot;type&quot;: &quot;Feature&quot;}, {&quot;bbox&quot;: [-119.13705489870698, 51.44912787985009, -119.12807174586578, 51.454725858557026], &quot;geometry&quot;: {&quot;coordinates&quot;: [[[-119.13705489870698, 51.454725858557026], [-119.12807174586578, 51.454725858557026], [-119.12807174586578, 51.44912787985009], [-119.13705489870698, 51.44912787985009], [-119.13705489870698, 51.454725858557026]]], &quot;type&quot;: &quot;Polygon&quot;}, &quot;id&quot;: &quot;62&quot;, &quot;properties&quot;: {&quot;collection&quot;: &quot;landsat&quot;, &quot;crs&quot;: &quot;EPSG:32610&quot;, &quot;datetime&quot;: &quot;2023-01-04&quot;, &quot;location&quot;: &quot;/tmp/example_rasters/landsat/6_20230104.tif&quot;, &quot;target_id&quot;: 19}, &quot;type&quot;: &quot;Feature&quot;}, {&quot;bbox&quot;: [-119.13644998352164, 51.45036807395869, -119.12746683068045, 51.45596605266563], &quot;geometry&quot;: {&quot;coordinates&quot;: [[[-119.13644998352164, 51.45596605266563], [-119.12746683068045, 51.45596605266563], [-119.12746683068045, 51.45036807395869], [-119.13644998352164, 51.45036807395869], [-119.13644998352164, 51.45596605266563]]], &quot;type&quot;: &quot;Polygon&quot;}, &quot;id&quot;: &quot;63&quot;, &quot;properties&quot;: {&quot;collection&quot;: &quot;landsat&quot;, &quot;crs&quot;: &quot;EPSG:32610&quot;, &quot;datetime&quot;: &quot;2023-01-01&quot;, &quot;location&quot;: &quot;/tmp/example_rasters/landsat/6_20230101.tif&quot;, &quot;target_id&quot;: 19}, &quot;type&quot;: &quot;Feature&quot;}, {&quot;bbox&quot;: [-119.13701762865928, 51.44975945511375, -119.12803447581808, 51.45535743382069], &quot;geometry&quot;: {&quot;coordinates&quot;: [[[-119.12803447581808, 51.45535743382069], [-119.12803447581808, 51.44975945511375], [-119.13701762865928, 51.44975945511375], [-119.13701762865928, 51.45535743382069], [-119.12803447581808, 51.45535743382069]]], &quot;type&quot;: &quot;Polygon&quot;}, &quot;id&quot;: &quot;64&quot;, &quot;properties&quot;: {&quot;collection&quot;: &quot;target&quot;, &quot;crs&quot;: &quot;EPSG:4326&quot;, &quot;datetime&quot;: &quot;2023-01-08&quot;, &quot;location&quot;: &quot;/tmp/example_rasters/targets/6_20230108.tif&quot;, &quot;target_id&quot;: 19}, &quot;type&quot;: &quot;Feature&quot;}, {&quot;bbox&quot;: [-119.13758590300837, 51.44878832379319, -119.12860275016718, 51.454386302500126], &quot;geometry&quot;: {&quot;coordinates&quot;: [[[-119.12860275016718, 51.44878832379319], [-119.13758590300837, 51.44878832379319], [-119.13758590300837, 51.454386302500126], [-119.12860275016718, 51.454386302500126], [-119.12860275016718, 51.44878832379319]]], &quot;type&quot;: &quot;Polygon&quot;}, &quot;id&quot;: &quot;65&quot;, &quot;properties&quot;: {&quot;collection&quot;: &quot;sentinel2&quot;, &quot;crs&quot;: &quot;EPSG:3857&quot;, &quot;datetime&quot;: &quot;2023-01-04&quot;, &quot;location&quot;: &quot;/tmp/example_rasters/sentinel2/6_20230104.tif&quot;, &quot;target_id&quot;: 19}, &quot;type&quot;: &quot;Feature&quot;}, {&quot;bbox&quot;: [-119.1375264968875, 51.450386700695006, -119.1285433440463, 51.45598467940194], &quot;geometry&quot;: {&quot;coordinates&quot;: [[[-119.1285433440463, 51.450386700695006], [-119.1375264968875, 51.450386700695006], [-119.1375264968875, 51.45598467940194], [-119.1285433440463, 51.45598467940194], [-119.1285433440463, 51.450386700695006]]], &quot;type&quot;: &quot;Polygon&quot;}, &quot;id&quot;: &quot;66&quot;, &quot;properties&quot;: {&quot;collection&quot;: &quot;sentinel2&quot;, &quot;crs&quot;: &quot;EPSG:3857&quot;, &quot;datetime&quot;: &quot;2023-01-02&quot;, &quot;location&quot;: &quot;/tmp/example_rasters/sentinel2/6_20230102.tif&quot;, &quot;target_id&quot;: 19}, &quot;type&quot;: &quot;Feature&quot;}, {&quot;bbox&quot;: [-119.13628877220887, 51.45014020671853, -119.12730561936768, 51.45573818542547], &quot;geometry&quot;: {&quot;coordinates&quot;: [[[-119.12730561936768, 51.45014020671853], [-119.13628877220887, 51.45014020671853], [-119.13628877220887, 51.45573818542547], [-119.12730561936768, 51.45573818542547], [-119.12730561936768, 51.45014020671853]]], &quot;type&quot;: &quot;Polygon&quot;}, &quot;id&quot;: &quot;67&quot;, &quot;properties&quot;: {&quot;collection&quot;: &quot;sentinel2&quot;, &quot;crs&quot;: &quot;EPSG:3857&quot;, &quot;datetime&quot;: &quot;2023-01-05&quot;, &quot;location&quot;: &quot;/tmp/example_rasters/sentinel2/6_20230105.tif&quot;, &quot;target_id&quot;: 19}, &quot;type&quot;: &quot;Feature&quot;}, {&quot;bbox&quot;: [-119.13727854091475, 51.44998618358781, -119.12829538807355, 51.45558416229475], &quot;geometry&quot;: {&quot;coordinates&quot;: [[[-119.13727854091475, 51.45558416229475], [-119.12829538807355, 51.45558416229475], [-119.12829538807355, 51.44998618358781], [-119.13727854091475, 51.44998618358781], [-119.13727854091475, 51.45558416229475]]], &quot;type&quot;: &quot;Polygon&quot;}, &quot;id&quot;: &quot;68&quot;, &quot;properties&quot;: {&quot;collection&quot;: &quot;landsat&quot;, &quot;crs&quot;: &quot;EPSG:32610&quot;, &quot;datetime&quot;: &quot;2023-01-03&quot;, &quot;location&quot;: &quot;/tmp/example_rasters/landsat/6_20230103.tif&quot;, &quot;target_id&quot;: 20}, &quot;type&quot;: &quot;Feature&quot;}, {&quot;bbox&quot;: [-119.13715977460274, 51.450336439083024, -119.12817662176154, 51.45593441778996], &quot;geometry&quot;: {&quot;coordinates&quot;: [[[-119.13715977460274, 51.45593441778996], [-119.12817662176154, 51.45593441778996], [-119.12817662176154, 51.450336439083024], [-119.13715977460274, 51.450336439083024], [-119.13715977460274, 51.45593441778996]]], &quot;type&quot;: &quot;Polygon&quot;}, &quot;id&quot;: &quot;69&quot;, &quot;properties&quot;: {&quot;collection&quot;: &quot;landsat&quot;, &quot;crs&quot;: &quot;EPSG:32610&quot;, &quot;datetime&quot;: &quot;2023-01-04&quot;, &quot;location&quot;: &quot;/tmp/example_rasters/landsat/6_20230104.tif&quot;, &quot;target_id&quot;: 20}, &quot;type&quot;: &quot;Feature&quot;}, {&quot;bbox&quot;: [-119.13595427988015, 51.449038028992966, -119.12697112703896, 51.454636007699904], &quot;geometry&quot;: {&quot;coordinates&quot;: [[[-119.13595427988015, 51.454636007699904], [-119.12697112703896, 51.454636007699904], [-119.12697112703896, 51.449038028992966], [-119.13595427988015, 51.449038028992966], [-119.13595427988015, 51.454636007699904]]], &quot;type&quot;: &quot;Polygon&quot;}, &quot;id&quot;: &quot;70&quot;, &quot;properties&quot;: {&quot;collection&quot;: &quot;landsat&quot;, &quot;crs&quot;: &quot;EPSG:32610&quot;, &quot;datetime&quot;: &quot;2023-01-08&quot;, &quot;location&quot;: &quot;/tmp/example_rasters/landsat/6_20230108.tif&quot;, &quot;target_id&quot;: 20}, &quot;type&quot;: &quot;Feature&quot;}, {&quot;bbox&quot;: [-119.13743449078574, 51.45033759815349, -119.12845133794454, 51.455935576860426], &quot;geometry&quot;: {&quot;coordinates&quot;: [[[-119.12845133794454, 51.455935576860426], [-119.12845133794454, 51.45033759815349], [-119.13743449078574, 51.45033759815349], [-119.13743449078574, 51.455935576860426], [-119.12845133794454, 51.455935576860426]]], &quot;type&quot;: &quot;Polygon&quot;}, &quot;id&quot;: &quot;71&quot;, &quot;properties&quot;: {&quot;collection&quot;: &quot;target&quot;, &quot;crs&quot;: &quot;EPSG:4326&quot;, &quot;datetime&quot;: &quot;2023-01-09&quot;, &quot;location&quot;: &quot;/tmp/example_rasters/targets/6_20230109.tif&quot;, &quot;target_id&quot;: 20}, &quot;type&quot;: &quot;Feature&quot;}, {&quot;bbox&quot;: [-119.13659318083108, 51.45016816180085, -119.12761002798989, 51.45576614050779], &quot;geometry&quot;: {&quot;coordinates&quot;: [[[-119.12761002798989, 51.45016816180085], [-119.13659318083108, 51.45016816180085], [-119.13659318083108, 51.45576614050779], [-119.12761002798989, 51.45576614050779], [-119.12761002798989, 51.45016816180085]]], &quot;type&quot;: &quot;Polygon&quot;}, &quot;id&quot;: &quot;72&quot;, &quot;properties&quot;: {&quot;collection&quot;: &quot;sentinel2&quot;, &quot;crs&quot;: &quot;EPSG:3857&quot;, &quot;datetime&quot;: &quot;2023-01-04&quot;, &quot;location&quot;: &quot;/tmp/example_rasters/sentinel2/6_20230104.tif&quot;, &quot;target_id&quot;: 20}, &quot;type&quot;: &quot;Feature&quot;}, {&quot;bbox&quot;: [-119.13628425899388, 51.450075982851686, -119.12730110615269, 51.455673961558624], &quot;geometry&quot;: {&quot;coordinates&quot;: [[[-119.12730110615269, 51.450075982851686], [-119.13628425899388, 51.450075982851686], [-119.13628425899388, 51.455673961558624], [-119.12730110615269, 51.455673961558624], [-119.12730110615269, 51.450075982851686]]], &quot;type&quot;: &quot;Polygon&quot;}, &quot;id&quot;: &quot;73&quot;, &quot;properties&quot;: {&quot;collection&quot;: &quot;sentinel2&quot;, &quot;crs&quot;: &quot;EPSG:3857&quot;, &quot;datetime&quot;: &quot;2023-01-02&quot;, &quot;location&quot;: &quot;/tmp/example_rasters/sentinel2/6_20230102.tif&quot;, &quot;target_id&quot;: 20}, &quot;type&quot;: &quot;Feature&quot;}, {&quot;bbox&quot;: [-119.13737923353872, 51.449262498554496, -119.12839608069753, 51.454860477261434], &quot;geometry&quot;: {&quot;coordinates&quot;: [[[-119.12839608069753, 51.449262498554496], [-119.13737923353872, 51.449262498554496], [-119.13737923353872, 51.454860477261434], [-119.12839608069753, 51.454860477261434], [-119.12839608069753, 51.449262498554496]]], &quot;type&quot;: &quot;Polygon&quot;}, &quot;id&quot;: &quot;74&quot;, &quot;properties&quot;: {&quot;collection&quot;: &quot;sentinel2&quot;, &quot;crs&quot;: &quot;EPSG:3857&quot;, &quot;datetime&quot;: &quot;2023-01-05&quot;, &quot;location&quot;: &quot;/tmp/example_rasters/sentinel2/6_20230105.tif&quot;, &quot;target_id&quot;: 20}, &quot;type&quot;: &quot;Feature&quot;}, {&quot;bbox&quot;: [-119.13624871168471, 51.44902909141588, -119.12726555884352, 51.45462707012282], &quot;geometry&quot;: {&quot;coordinates&quot;: [[[-119.13624871168471, 51.44902909141588], [-119.13624871168471, 51.45462707012282], [-119.12726555884352, 51.45462707012282], [-119.12726555884352, 51.44902909141588], [-119.13624871168471, 51.44902909141588]]], &quot;type&quot;: &quot;Polygon&quot;}, &quot;id&quot;: &quot;75&quot;, &quot;properties&quot;: {&quot;collection&quot;: &quot;landsat&quot;, &quot;crs&quot;: &quot;EPSG:32610&quot;, &quot;datetime&quot;: &quot;2023-01-19&quot;, &quot;location&quot;: &quot;/tmp/example_rasters/landsat/6_20230119.tif&quot;, &quot;target_id&quot;: 18}, &quot;type&quot;: &quot;Feature&quot;}, {&quot;bbox&quot;: [-119.136243504442, 51.44879312734185, -119.12726035160081, 51.45439110604879], &quot;geometry&quot;: {&quot;coordinates&quot;: [[[-119.136243504442, 51.44879312734185], [-119.136243504442, 51.45439110604879], [-119.12726035160081, 51.45439110604879], [-119.12726035160081, 51.44879312734185], [-119.136243504442, 51.44879312734185]]], &quot;type&quot;: &quot;Polygon&quot;}, &quot;id&quot;: &quot;76&quot;, &quot;properties&quot;: {&quot;collection&quot;: &quot;landsat&quot;, &quot;crs&quot;: &quot;EPSG:32610&quot;, &quot;datetime&quot;: &quot;2023-01-16&quot;, &quot;location&quot;: &quot;/tmp/example_rasters/landsat/6_20230116.tif&quot;, &quot;target_id&quot;: 18}, &quot;type&quot;: &quot;Feature&quot;}, {&quot;bbox&quot;: [-119.13635236286198, 51.44904443533265, -119.12736921002079, 51.45464241403959], &quot;geometry&quot;: {&quot;coordinates&quot;: [[[-119.12736921002079, 51.45464241403959], [-119.12736921002079, 51.44904443533265], [-119.13635236286198, 51.44904443533265], [-119.13635236286198, 51.45464241403959], [-119.12736921002079, 51.45464241403959]]], &quot;type&quot;: &quot;Polygon&quot;}, &quot;id&quot;: &quot;77&quot;, &quot;properties&quot;: {&quot;collection&quot;: &quot;target&quot;, &quot;crs&quot;: &quot;EPSG:4326&quot;, &quot;datetime&quot;: &quot;2023-01-23&quot;, &quot;location&quot;: &quot;/tmp/example_rasters/targets/6_20230123.tif&quot;, &quot;target_id&quot;: 18}, &quot;type&quot;: &quot;Feature&quot;}, {&quot;bbox&quot;: [-119.1358971444308, 51.44945249256898, -119.1269139915896, 51.45505047127592], &quot;geometry&quot;: {&quot;coordinates&quot;: [[[-119.1269139915896, 51.44945249256898], [-119.1358971444308, 51.44945249256898], [-119.1358971444308, 51.45505047127592], [-119.1269139915896, 51.45505047127592], [-119.1269139915896, 51.44945249256898]]], &quot;type&quot;: &quot;Polygon&quot;}, &quot;id&quot;: &quot;78&quot;, &quot;properties&quot;: {&quot;collection&quot;: &quot;sentinel2&quot;, &quot;crs&quot;: &quot;EPSG:3857&quot;, &quot;datetime&quot;: &quot;2023-01-22&quot;, &quot;location&quot;: &quot;/tmp/example_rasters/sentinel2/6_20230122.tif&quot;, &quot;target_id&quot;: 18}, &quot;type&quot;: &quot;Feature&quot;}, {&quot;bbox&quot;: [-120.33882130702196, 39.53843255450211, -120.32983815418076, 39.54536005443137], &quot;geometry&quot;: {&quot;coordinates&quot;: [[[-120.32983815418076, 39.54536005443137], [-120.32983815418076, 39.53843255450211], [-120.33882130702196, 39.53843255450211], [-120.33882130702196, 39.54536005443137], [-120.32983815418076, 39.54536005443137]]], &quot;type&quot;: &quot;Polygon&quot;}, &quot;id&quot;: &quot;79&quot;, &quot;properties&quot;: {&quot;collection&quot;: &quot;landsat&quot;, &quot;crs&quot;: &quot;EPSG:32610&quot;, &quot;datetime&quot;: &quot;2023-01-03&quot;, &quot;location&quot;: &quot;/tmp/example_rasters/landsat/7_20230103.tif&quot;, &quot;target_id&quot;: 22}, &quot;type&quot;: &quot;Feature&quot;}, {&quot;bbox&quot;: [-120.33926337663385, 39.537050023587504, -120.33028022379266, 39.543977523516766], &quot;geometry&quot;: {&quot;coordinates&quot;: [[[-120.33028022379266, 39.543977523516766], [-120.33028022379266, 39.537050023587504], [-120.33926337663385, 39.537050023587504], [-120.33926337663385, 39.543977523516766], [-120.33028022379266, 39.543977523516766]]], &quot;type&quot;: &quot;Polygon&quot;}, &quot;id&quot;: &quot;80&quot;, &quot;properties&quot;: {&quot;collection&quot;: &quot;target&quot;, &quot;crs&quot;: &quot;EPSG:4326&quot;, &quot;datetime&quot;: &quot;2023-01-04&quot;, &quot;location&quot;: &quot;/tmp/example_rasters/targets/7_20230104.tif&quot;, &quot;target_id&quot;: 22}, &quot;type&quot;: &quot;Feature&quot;}, {&quot;bbox&quot;: [-120.34037916775262, 39.53739724750513, -120.33139601491142, 39.544324747434395], &quot;geometry&quot;: {&quot;coordinates&quot;: [[[-120.33139601491142, 39.53739724750513], [-120.34037916775262, 39.53739724750513], [-120.34037916775262, 39.544324747434395], [-120.33139601491142, 39.544324747434395], [-120.33139601491142, 39.53739724750513]]], &quot;type&quot;: &quot;Polygon&quot;}, &quot;id&quot;: &quot;81&quot;, &quot;properties&quot;: {&quot;collection&quot;: &quot;sentinel2&quot;, &quot;crs&quot;: &quot;EPSG:3857&quot;, &quot;datetime&quot;: &quot;2023-01-01&quot;, &quot;location&quot;: &quot;/tmp/example_rasters/sentinel2/7_20230101.tif&quot;, &quot;target_id&quot;: 22}, &quot;type&quot;: &quot;Feature&quot;}, {&quot;bbox&quot;: [-120.33874782369334, 39.53707717929358, -120.32976467085214, 39.544004679222844], &quot;geometry&quot;: {&quot;coordinates&quot;: [[[-120.32976467085214, 39.544004679222844], [-120.32976467085214, 39.53707717929358], [-120.33874782369334, 39.53707717929358], [-120.33874782369334, 39.544004679222844], [-120.32976467085214, 39.544004679222844]]], &quot;type&quot;: &quot;Polygon&quot;}, &quot;id&quot;: &quot;82&quot;, &quot;properties&quot;: {&quot;collection&quot;: &quot;landsat&quot;, &quot;crs&quot;: &quot;EPSG:32610&quot;, &quot;datetime&quot;: &quot;2023-01-16&quot;, &quot;location&quot;: &quot;/tmp/example_rasters/landsat/7_20230116.tif&quot;, &quot;target_id&quot;: 23}, &quot;type&quot;: &quot;Feature&quot;}, {&quot;bbox&quot;: [-120.33900199832502, 39.53784364216659, -120.33001884548382, 39.544771142095854], &quot;geometry&quot;: {&quot;coordinates&quot;: [[[-120.33001884548382, 39.544771142095854], [-120.33001884548382, 39.53784364216659], [-120.33900199832502, 39.53784364216659], [-120.33900199832502, 39.544771142095854], [-120.33001884548382, 39.544771142095854]]], &quot;type&quot;: &quot;Polygon&quot;}, &quot;id&quot;: &quot;83&quot;, &quot;properties&quot;: {&quot;collection&quot;: &quot;target&quot;, &quot;crs&quot;: &quot;EPSG:4326&quot;, &quot;datetime&quot;: &quot;2023-01-17&quot;, &quot;location&quot;: &quot;/tmp/example_rasters/targets/7_20230117.tif&quot;, &quot;target_id&quot;: 23}, &quot;type&quot;: &quot;Feature&quot;}, {&quot;bbox&quot;: [-120.33891597977711, 39.538161019086544, -120.32993282693592, 39.545088519015806], &quot;geometry&quot;: {&quot;coordinates&quot;: [[[-120.32993282693592, 39.538161019086544], [-120.33891597977711, 39.538161019086544], [-120.33891597977711, 39.545088519015806], [-120.32993282693592, 39.545088519015806], [-120.32993282693592, 39.538161019086544]]], &quot;type&quot;: &quot;Polygon&quot;}, &quot;id&quot;: &quot;84&quot;, &quot;properties&quot;: {&quot;collection&quot;: &quot;sentinel2&quot;, &quot;crs&quot;: &quot;EPSG:3857&quot;, &quot;datetime&quot;: &quot;2023-01-10&quot;, &quot;location&quot;: &quot;/tmp/example_rasters/sentinel2/7_20230110.tif&quot;, &quot;target_id&quot;: 23}, &quot;type&quot;: &quot;Feature&quot;}, {&quot;bbox&quot;: [-120.3402746113924, 39.537167794630996, -120.3312914585512, 39.54409529456026], &quot;geometry&quot;: {&quot;coordinates&quot;: [[[-120.3312914585512, 39.537167794630996], [-120.3402746113924, 39.537167794630996], [-120.3402746113924, 39.54409529456026], [-120.3312914585512, 39.54409529456026], [-120.3312914585512, 39.537167794630996]]], &quot;type&quot;: &quot;Polygon&quot;}, &quot;id&quot;: &quot;85&quot;, &quot;properties&quot;: {&quot;collection&quot;: &quot;sentinel2&quot;, &quot;crs&quot;: &quot;EPSG:3857&quot;, &quot;datetime&quot;: &quot;2023-01-16&quot;, &quot;location&quot;: &quot;/tmp/example_rasters/sentinel2/7_20230116.tif&quot;, &quot;target_id&quot;: 23}, &quot;type&quot;: &quot;Feature&quot;}, {&quot;bbox&quot;: [-120.3398759972259, 39.53688755818099, -120.3308928443847, 39.543815058110255], &quot;geometry&quot;: {&quot;coordinates&quot;: [[[-120.3308928443847, 39.543815058110255], [-120.3308928443847, 39.53688755818099], [-120.3398759972259, 39.53688755818099], [-120.3398759972259, 39.543815058110255], [-120.3308928443847, 39.543815058110255]]], &quot;type&quot;: &quot;Polygon&quot;}, &quot;id&quot;: &quot;86&quot;, &quot;properties&quot;: {&quot;collection&quot;: &quot;landsat&quot;, &quot;crs&quot;: &quot;EPSG:32610&quot;, &quot;datetime&quot;: &quot;2023-01-20&quot;, &quot;location&quot;: &quot;/tmp/example_rasters/landsat/7_20230120.tif&quot;, &quot;target_id&quot;: 21}, &quot;type&quot;: &quot;Feature&quot;}, {&quot;bbox&quot;: [-120.33958786893245, 39.53699345912508, -120.33060471609126, 39.54392095905434], &quot;geometry&quot;: {&quot;coordinates&quot;: [[[-120.33060471609126, 39.54392095905434], [-120.33060471609126, 39.53699345912508], [-120.33958786893245, 39.53699345912508], [-120.33958786893245, 39.54392095905434], [-120.33060471609126, 39.54392095905434]]], &quot;type&quot;: &quot;Polygon&quot;}, &quot;id&quot;: &quot;87&quot;, &quot;properties&quot;: {&quot;collection&quot;: &quot;landsat&quot;, &quot;crs&quot;: &quot;EPSG:32610&quot;, &quot;datetime&quot;: &quot;2023-01-25&quot;, &quot;location&quot;: &quot;/tmp/example_rasters/landsat/7_20230125.tif&quot;, &quot;target_id&quot;: 21}, &quot;type&quot;: &quot;Feature&quot;}, {&quot;bbox&quot;: [-120.34040608368574, 39.53868163650809, -120.33142293084454, 39.54560913643735], &quot;geometry&quot;: {&quot;coordinates&quot;: [[[-120.33142293084454, 39.54560913643735], [-120.33142293084454, 39.53868163650809], [-120.34040608368574, 39.53868163650809], [-120.34040608368574, 39.54560913643735], [-120.33142293084454, 39.54560913643735]]], &quot;type&quot;: &quot;Polygon&quot;}, &quot;id&quot;: &quot;88&quot;, &quot;properties&quot;: {&quot;collection&quot;: &quot;landsat&quot;, &quot;crs&quot;: &quot;EPSG:32610&quot;, &quot;datetime&quot;: &quot;2023-01-21&quot;, &quot;location&quot;: &quot;/tmp/example_rasters/landsat/7_20230121.tif&quot;, &quot;target_id&quot;: 21}, &quot;type&quot;: &quot;Feature&quot;}, {&quot;bbox&quot;: [-120.33997696793111, 39.53727976528457, -120.33099381508991, 39.544207265213835], &quot;geometry&quot;: {&quot;coordinates&quot;: [[[-120.33099381508991, 39.544207265213835], [-120.33099381508991, 39.53727976528457], [-120.33997696793111, 39.53727976528457], [-120.33997696793111, 39.544207265213835], [-120.33099381508991, 39.544207265213835]]], &quot;type&quot;: &quot;Polygon&quot;}, &quot;id&quot;: &quot;89&quot;, &quot;properties&quot;: {&quot;collection&quot;: &quot;landsat&quot;, &quot;crs&quot;: &quot;EPSG:32610&quot;, &quot;datetime&quot;: &quot;2023-01-23&quot;, &quot;location&quot;: &quot;/tmp/example_rasters/landsat/7_20230123.tif&quot;, &quot;target_id&quot;: 21}, &quot;type&quot;: &quot;Feature&quot;}, {&quot;bbox&quot;: [-120.33998761131573, 39.538218025868794, -120.33100445847454, 39.545145525798056], &quot;geometry&quot;: {&quot;coordinates&quot;: [[[-120.33100445847454, 39.545145525798056], [-120.33100445847454, 39.538218025868794], [-120.33998761131573, 39.538218025868794], [-120.33998761131573, 39.545145525798056], [-120.33100445847454, 39.545145525798056]]], &quot;type&quot;: &quot;Polygon&quot;}, &quot;id&quot;: &quot;90&quot;, &quot;properties&quot;: {&quot;collection&quot;: &quot;target&quot;, &quot;crs&quot;: &quot;EPSG:4326&quot;, &quot;datetime&quot;: &quot;2023-01-27&quot;, &quot;location&quot;: &quot;/tmp/example_rasters/targets/7_20230127.tif&quot;, &quot;target_id&quot;: 21}, &quot;type&quot;: &quot;Feature&quot;}, {&quot;bbox&quot;: [-120.3396253482847, 39.53703470780805, -120.3306421954435, 39.54396220773731], &quot;geometry&quot;: {&quot;coordinates&quot;: [[[-120.3306421954435, 39.53703470780805], [-120.3396253482847, 39.53703470780805], [-120.3396253482847, 39.54396220773731], [-120.3306421954435, 39.54396220773731], [-120.3306421954435, 39.53703470780805]]], &quot;type&quot;: &quot;Polygon&quot;}, &quot;id&quot;: &quot;91&quot;, &quot;properties&quot;: {&quot;collection&quot;: &quot;sentinel2&quot;, &quot;crs&quot;: &quot;EPSG:3857&quot;, &quot;datetime&quot;: &quot;2023-01-25&quot;, &quot;location&quot;: &quot;/tmp/example_rasters/sentinel2/7_20230125.tif&quot;, &quot;target_id&quot;: 21}, &quot;type&quot;: &quot;Feature&quot;}, {&quot;bbox&quot;: [-120.33869283101063, 39.538285731027194, -120.32970967816944, 39.545213230956456], &quot;geometry&quot;: {&quot;coordinates&quot;: [[[-120.32970967816944, 39.538285731027194], [-120.33869283101063, 39.538285731027194], [-120.33869283101063, 39.545213230956456], [-120.32970967816944, 39.545213230956456], [-120.32970967816944, 39.538285731027194]]], &quot;type&quot;: &quot;Polygon&quot;}, &quot;id&quot;: &quot;92&quot;, &quot;properties&quot;: {&quot;collection&quot;: &quot;sentinel2&quot;, &quot;crs&quot;: &quot;EPSG:3857&quot;, &quot;datetime&quot;: &quot;2023-01-20&quot;, &quot;location&quot;: &quot;/tmp/example_rasters/sentinel2/7_20230120.tif&quot;, &quot;target_id&quot;: 21}, &quot;type&quot;: &quot;Feature&quot;}, {&quot;bbox&quot;: [-120.34047676688354, 39.53728335624895, -120.33149361404234, 39.54421085617821], &quot;geometry&quot;: {&quot;coordinates&quot;: [[[-120.33149361404234, 39.53728335624895], [-120.34047676688354, 39.53728335624895], [-120.34047676688354, 39.54421085617821], [-120.33149361404234, 39.54421085617821], [-120.33149361404234, 39.53728335624895]]], &quot;type&quot;: &quot;Polygon&quot;}, &quot;id&quot;: &quot;93&quot;, &quot;properties&quot;: {&quot;collection&quot;: &quot;sentinel2&quot;, &quot;crs&quot;: &quot;EPSG:3857&quot;, &quot;datetime&quot;: &quot;2023-01-21&quot;, &quot;location&quot;: &quot;/tmp/example_rasters/sentinel2/7_20230121.tif&quot;, &quot;target_id&quot;: 21}, &quot;type&quot;: &quot;Feature&quot;}, {&quot;bbox&quot;: [-119.67348343398366, 36.26907833184713, -119.66450028114247, 36.2763206396929], &quot;geometry&quot;: {&quot;coordinates&quot;: [[[-119.66450028114247, 36.2763206396929], [-119.66450028114247, 36.26907833184713], [-119.67348343398366, 36.26907833184713], [-119.67348343398366, 36.2763206396929], [-119.66450028114247, 36.2763206396929]]], &quot;type&quot;: &quot;Polygon&quot;}, &quot;id&quot;: &quot;94&quot;, &quot;properties&quot;: {&quot;collection&quot;: &quot;landsat&quot;, &quot;crs&quot;: &quot;EPSG:32610&quot;, &quot;datetime&quot;: &quot;2023-01-05&quot;, &quot;location&quot;: &quot;/tmp/example_rasters/landsat/8_20230105.tif&quot;, &quot;target_id&quot;: 26}, &quot;type&quot;: &quot;Feature&quot;}, {&quot;bbox&quot;: [-119.6721696320712, 36.26843138882106, -119.66318647923, 36.27567369666682], &quot;geometry&quot;: {&quot;coordinates&quot;: [[[-119.66318647923, 36.27567369666682], [-119.66318647923, 36.26843138882106], [-119.6721696320712, 36.26843138882106], [-119.6721696320712, 36.27567369666682], [-119.66318647923, 36.27567369666682]]], &quot;type&quot;: &quot;Polygon&quot;}, &quot;id&quot;: &quot;95&quot;, &quot;properties&quot;: {&quot;collection&quot;: &quot;target&quot;, &quot;crs&quot;: &quot;EPSG:4326&quot;, &quot;datetime&quot;: &quot;2023-01-07&quot;, &quot;location&quot;: &quot;/tmp/example_rasters/targets/8_20230107.tif&quot;, &quot;target_id&quot;: 26}, &quot;type&quot;: &quot;Feature&quot;}, {&quot;bbox&quot;: [-119.67194846794425, 36.26867414736521, -119.66296531510305, 36.275916455210975], &quot;geometry&quot;: {&quot;coordinates&quot;: [[[-119.66296531510305, 36.26867414736521], [-119.67194846794425, 36.26867414736521], [-119.67194846794425, 36.275916455210975], [-119.66296531510305, 36.275916455210975], [-119.66296531510305, 36.26867414736521]]], &quot;type&quot;: &quot;Polygon&quot;}, &quot;id&quot;: &quot;96&quot;, &quot;properties&quot;: {&quot;collection&quot;: &quot;sentinel2&quot;, &quot;crs&quot;: &quot;EPSG:3857&quot;, &quot;datetime&quot;: &quot;2023-01-02&quot;, &quot;location&quot;: &quot;/tmp/example_rasters/sentinel2/8_20230102.tif&quot;, &quot;target_id&quot;: 26}, &quot;type&quot;: &quot;Feature&quot;}, {&quot;bbox&quot;: [-119.6720249389427, 36.26889158000084, -119.6630417861015, 36.276133887846605], &quot;geometry&quot;: {&quot;coordinates&quot;: [[[-119.6630417861015, 36.26889158000084], [-119.6720249389427, 36.26889158000084], [-119.6720249389427, 36.276133887846605], [-119.6630417861015, 36.276133887846605], [-119.6630417861015, 36.26889158000084]]], &quot;type&quot;: &quot;Polygon&quot;}, &quot;id&quot;: &quot;97&quot;, &quot;properties&quot;: {&quot;collection&quot;: &quot;landsat&quot;, &quot;crs&quot;: &quot;EPSG:32610&quot;, &quot;datetime&quot;: &quot;2023-01-10&quot;, &quot;location&quot;: &quot;/tmp/example_rasters/landsat/8_20230110.tif&quot;, &quot;target_id&quot;: 24}, &quot;type&quot;: &quot;Feature&quot;}, {&quot;bbox&quot;: [-119.67231173050413, 36.269250872903385, -119.66332857766294, 36.27649318074915], &quot;geometry&quot;: {&quot;coordinates&quot;: [[[-119.66332857766294, 36.269250872903385], [-119.67231173050413, 36.269250872903385], [-119.67231173050413, 36.27649318074915], [-119.66332857766294, 36.27649318074915], [-119.66332857766294, 36.269250872903385]]], &quot;type&quot;: &quot;Polygon&quot;}, &quot;id&quot;: &quot;98&quot;, &quot;properties&quot;: {&quot;collection&quot;: &quot;landsat&quot;, &quot;crs&quot;: &quot;EPSG:32610&quot;, &quot;datetime&quot;: &quot;2023-01-05&quot;, &quot;location&quot;: &quot;/tmp/example_rasters/landsat/8_20230105.tif&quot;, &quot;target_id&quot;: 24}, &quot;type&quot;: &quot;Feature&quot;}, {&quot;bbox&quot;: [-119.67320670425708, 36.26829143047865, -119.66422355141589, 36.27553373832441], &quot;geometry&quot;: {&quot;coordinates&quot;: [[[-119.66422355141589, 36.27553373832441], [-119.66422355141589, 36.26829143047865], [-119.67320670425708, 36.26829143047865], [-119.67320670425708, 36.27553373832441], [-119.66422355141589, 36.27553373832441]]], &quot;type&quot;: &quot;Polygon&quot;}, &quot;id&quot;: &quot;99&quot;, &quot;properties&quot;: {&quot;collection&quot;: &quot;target&quot;, &quot;crs&quot;: &quot;EPSG:4326&quot;, &quot;datetime&quot;: &quot;2023-01-11&quot;, &quot;location&quot;: &quot;/tmp/example_rasters/targets/8_20230111.tif&quot;, &quot;target_id&quot;: 24}, &quot;type&quot;: &quot;Feature&quot;}, {&quot;bbox&quot;: [-119.67152658126176, 36.26870934964295, -119.66254342842056, 36.27595165748871], &quot;geometry&quot;: {&quot;coordinates&quot;: [[[-119.66254342842056, 36.26870934964295], [-119.67152658126176, 36.26870934964295], [-119.67152658126176, 36.27595165748871], [-119.66254342842056, 36.27595165748871], [-119.66254342842056, 36.26870934964295]]], &quot;type&quot;: &quot;Polygon&quot;}, &quot;id&quot;: &quot;100&quot;, &quot;properties&quot;: {&quot;collection&quot;: &quot;sentinel2&quot;, &quot;crs&quot;: &quot;EPSG:3857&quot;, &quot;datetime&quot;: &quot;2023-01-08&quot;, &quot;location&quot;: &quot;/tmp/example_rasters/sentinel2/8_20230108.tif&quot;, &quot;target_id&quot;: 24}, &quot;type&quot;: &quot;Feature&quot;}, {&quot;bbox&quot;: [-119.67152765351476, 36.268553505747306, -119.66254450067356, 36.27579581359307], &quot;geometry&quot;: {&quot;coordinates&quot;: [[[-119.66254450067356, 36.268553505747306], [-119.67152765351476, 36.268553505747306], [-119.67152765351476, 36.27579581359307], [-119.66254450067356, 36.27579581359307], [-119.66254450067356, 36.268553505747306]]], &quot;type&quot;: &quot;Polygon&quot;}, &quot;id&quot;: &quot;101&quot;, &quot;properties&quot;: {&quot;collection&quot;: &quot;sentinel2&quot;, &quot;crs&quot;: &quot;EPSG:3857&quot;, &quot;datetime&quot;: &quot;2023-01-07&quot;, &quot;location&quot;: &quot;/tmp/example_rasters/sentinel2/8_20230107.tif&quot;, &quot;target_id&quot;: 24}, &quot;type&quot;: &quot;Feature&quot;}, {&quot;bbox&quot;: [-119.67341172761924, 36.26981044572052, -119.66442857477804, 36.27705275356629], &quot;geometry&quot;: {&quot;coordinates&quot;: [[[-119.66442857477804, 36.26981044572052], [-119.67341172761924, 36.26981044572052], [-119.67341172761924, 36.27705275356629], [-119.66442857477804, 36.27705275356629], [-119.66442857477804, 36.26981044572052]]], &quot;type&quot;: &quot;Polygon&quot;}, &quot;id&quot;: &quot;102&quot;, &quot;properties&quot;: {&quot;collection&quot;: &quot;landsat&quot;, &quot;crs&quot;: &quot;EPSG:32610&quot;, &quot;datetime&quot;: &quot;2023-01-20&quot;, &quot;location&quot;: &quot;/tmp/example_rasters/landsat/8_20230120.tif&quot;, &quot;target_id&quot;: 25}, &quot;type&quot;: &quot;Feature&quot;}, {&quot;bbox&quot;: [-119.67242139231232, 36.26835301766414, -119.66343823947112, 36.275595325509904], &quot;geometry&quot;: {&quot;coordinates&quot;: [[[-119.66343823947112, 36.26835301766414], [-119.67242139231232, 36.26835301766414], [-119.67242139231232, 36.275595325509904], [-119.66343823947112, 36.275595325509904], [-119.66343823947112, 36.26835301766414]]], &quot;type&quot;: &quot;Polygon&quot;}, &quot;id&quot;: &quot;103&quot;, &quot;properties&quot;: {&quot;collection&quot;: &quot;landsat&quot;, &quot;crs&quot;: &quot;EPSG:32610&quot;, &quot;datetime&quot;: &quot;2023-01-18&quot;, &quot;location&quot;: &quot;/tmp/example_rasters/landsat/8_20230118.tif&quot;, &quot;target_id&quot;: 25}, &quot;type&quot;: &quot;Feature&quot;}, {&quot;bbox&quot;: [-119.67195997051134, 36.26920716236941, -119.66297681767014, 36.27644947021518], &quot;geometry&quot;: {&quot;coordinates&quot;: [[[-119.66297681767014, 36.27644947021518], [-119.66297681767014, 36.26920716236941], [-119.67195997051134, 36.26920716236941], [-119.67195997051134, 36.27644947021518], [-119.66297681767014, 36.27644947021518]]], &quot;type&quot;: &quot;Polygon&quot;}, &quot;id&quot;: &quot;104&quot;, &quot;properties&quot;: {&quot;collection&quot;: &quot;target&quot;, &quot;crs&quot;: &quot;EPSG:4326&quot;, &quot;datetime&quot;: &quot;2023-01-21&quot;, &quot;location&quot;: &quot;/tmp/example_rasters/targets/8_20230121.tif&quot;, &quot;target_id&quot;: 25}, &quot;type&quot;: &quot;Feature&quot;}, {&quot;bbox&quot;: [-119.6728316417167, 36.26994712756288, -119.6638484888755, 36.277189435408644], &quot;geometry&quot;: {&quot;coordinates&quot;: [[[-119.6638484888755, 36.26994712756288], [-119.6728316417167, 36.26994712756288], [-119.6728316417167, 36.277189435408644], [-119.6638484888755, 36.277189435408644], [-119.6638484888755, 36.26994712756288]]], &quot;type&quot;: &quot;Polygon&quot;}, &quot;id&quot;: &quot;105&quot;, &quot;properties&quot;: {&quot;collection&quot;: &quot;sentinel2&quot;, &quot;crs&quot;: &quot;EPSG:3857&quot;, &quot;datetime&quot;: &quot;2023-01-15&quot;, &quot;location&quot;: &quot;/tmp/example_rasters/sentinel2/8_20230115.tif&quot;, &quot;target_id&quot;: 25}, &quot;type&quot;: &quot;Feature&quot;}, {&quot;bbox&quot;: [-119.67253514932304, 36.26822028163311, -119.66355199648184, 36.27546258947888], &quot;geometry&quot;: {&quot;coordinates&quot;: [[[-119.66355199648184, 36.26822028163311], [-119.67253514932304, 36.26822028163311], [-119.67253514932304, 36.27546258947888], [-119.66355199648184, 36.27546258947888], [-119.66355199648184, 36.26822028163311]]], &quot;type&quot;: &quot;Polygon&quot;}, &quot;id&quot;: &quot;106&quot;, &quot;properties&quot;: {&quot;collection&quot;: &quot;sentinel2&quot;, &quot;crs&quot;: &quot;EPSG:3857&quot;, &quot;datetime&quot;: &quot;2023-01-18&quot;, &quot;location&quot;: &quot;/tmp/example_rasters/sentinel2/8_20230118.tif&quot;, &quot;target_id&quot;: 25}, &quot;type&quot;: &quot;Feature&quot;}, {&quot;bbox&quot;: [-118.03414830153903, 47.62694199323353, -118.02516514869784, 47.63299585018873], &quot;geometry&quot;: {&quot;coordinates&quot;: [[[-118.02516514869784, 47.63299585018873], [-118.02516514869784, 47.62694199323353], [-118.03414830153903, 47.62694199323353], [-118.03414830153903, 47.63299585018873], [-118.02516514869784, 47.63299585018873]]], &quot;type&quot;: &quot;Polygon&quot;}, &quot;id&quot;: &quot;107&quot;, &quot;properties&quot;: {&quot;collection&quot;: &quot;landsat&quot;, &quot;crs&quot;: &quot;EPSG:32610&quot;, &quot;datetime&quot;: &quot;2023-01-13&quot;, &quot;location&quot;: &quot;/tmp/example_rasters/landsat/9_20230113.tif&quot;, &quot;target_id&quot;: 29}, &quot;type&quot;: &quot;Feature&quot;}, {&quot;bbox&quot;: [-118.03383574064244, 47.62767814891456, -118.02485258780125, 47.63373200586976], &quot;geometry&quot;: {&quot;coordinates&quot;: [[[-118.02485258780125, 47.63373200586976], [-118.02485258780125, 47.62767814891456], [-118.03383574064244, 47.62767814891456], [-118.03383574064244, 47.63373200586976], [-118.02485258780125, 47.63373200586976]]], &quot;type&quot;: &quot;Polygon&quot;}, &quot;id&quot;: &quot;108&quot;, &quot;properties&quot;: {&quot;collection&quot;: &quot;landsat&quot;, &quot;crs&quot;: &quot;EPSG:32610&quot;, &quot;datetime&quot;: &quot;2023-01-17&quot;, &quot;location&quot;: &quot;/tmp/example_rasters/landsat/9_20230117.tif&quot;, &quot;target_id&quot;: 29}, &quot;type&quot;: &quot;Feature&quot;}, {&quot;bbox&quot;: [-118.03405531120964, 47.628211978724615, -118.02507215836845, 47.63426583567981], &quot;geometry&quot;: {&quot;coordinates&quot;: [[[-118.02507215836845, 47.63426583567981], [-118.02507215836845, 47.628211978724615], [-118.03405531120964, 47.628211978724615], [-118.03405531120964, 47.63426583567981], [-118.02507215836845, 47.63426583567981]]], &quot;type&quot;: &quot;Polygon&quot;}, &quot;id&quot;: &quot;109&quot;, &quot;properties&quot;: {&quot;collection&quot;: &quot;landsat&quot;, &quot;crs&quot;: &quot;EPSG:32610&quot;, &quot;datetime&quot;: &quot;2023-01-15&quot;, &quot;location&quot;: &quot;/tmp/example_rasters/landsat/9_20230115.tif&quot;, &quot;target_id&quot;: 29}, &quot;type&quot;: &quot;Feature&quot;}, {&quot;bbox&quot;: [-118.03399605346992, 47.62677350103746, -118.02501290062872, 47.63282735799266], &quot;geometry&quot;: {&quot;coordinates&quot;: [[[-118.03399605346992, 47.63282735799266], [-118.02501290062872, 47.63282735799266], [-118.02501290062872, 47.62677350103746], [-118.03399605346992, 47.62677350103746], [-118.03399605346992, 47.63282735799266]]], &quot;type&quot;: &quot;Polygon&quot;}, &quot;id&quot;: &quot;110&quot;, &quot;properties&quot;: {&quot;collection&quot;: &quot;target&quot;, &quot;crs&quot;: &quot;EPSG:4326&quot;, &quot;datetime&quot;: &quot;2023-01-19&quot;, &quot;location&quot;: &quot;/tmp/example_rasters/targets/9_20230119.tif&quot;, &quot;target_id&quot;: 29}, &quot;type&quot;: &quot;Feature&quot;}, {&quot;bbox&quot;: [-118.0336195649593, 47.62805121387342, -118.0246364121181, 47.63410507082862], &quot;geometry&quot;: {&quot;coordinates&quot;: [[[-118.0246364121181, 47.62805121387342], [-118.0336195649593, 47.62805121387342], [-118.0336195649593, 47.63410507082862], [-118.0246364121181, 47.63410507082862], [-118.0246364121181, 47.62805121387342]]], &quot;type&quot;: &quot;Polygon&quot;}, &quot;id&quot;: &quot;111&quot;, &quot;properties&quot;: {&quot;collection&quot;: &quot;sentinel2&quot;, &quot;crs&quot;: &quot;EPSG:3857&quot;, &quot;datetime&quot;: &quot;2023-01-12&quot;, &quot;location&quot;: &quot;/tmp/example_rasters/sentinel2/9_20230112.tif&quot;, &quot;target_id&quot;: 29}, &quot;type&quot;: &quot;Feature&quot;}, {&quot;bbox&quot;: [-118.03449887300063, 47.627261639181974, -118.02551572015943, 47.63331549613717], &quot;geometry&quot;: {&quot;coordinates&quot;: [[[-118.02551572015943, 47.627261639181974], [-118.03449887300063, 47.627261639181974], [-118.03449887300063, 47.63331549613717], [-118.02551572015943, 47.63331549613717], [-118.02551572015943, 47.627261639181974]]], &quot;type&quot;: &quot;Polygon&quot;}, &quot;id&quot;: &quot;112&quot;, &quot;properties&quot;: {&quot;collection&quot;: &quot;sentinel2&quot;, &quot;crs&quot;: &quot;EPSG:3857&quot;, &quot;datetime&quot;: &quot;2023-01-18&quot;, &quot;location&quot;: &quot;/tmp/example_rasters/sentinel2/9_20230118.tif&quot;, &quot;target_id&quot;: 29}, &quot;type&quot;: &quot;Feature&quot;}, {&quot;bbox&quot;: [-118.03467571091417, 47.62781521386543, -118.02569255807298, 47.63386907082063], &quot;geometry&quot;: {&quot;coordinates&quot;: [[[-118.02569255807298, 47.62781521386543], [-118.03467571091417, 47.62781521386543], [-118.03467571091417, 47.63386907082063], [-118.02569255807298, 47.63386907082063], [-118.02569255807298, 47.62781521386543]]], &quot;type&quot;: &quot;Polygon&quot;}, &quot;id&quot;: &quot;113&quot;, &quot;properties&quot;: {&quot;collection&quot;: &quot;sentinel2&quot;, &quot;crs&quot;: &quot;EPSG:3857&quot;, &quot;datetime&quot;: &quot;2023-01-16&quot;, &quot;location&quot;: &quot;/tmp/example_rasters/sentinel2/9_20230116.tif&quot;, &quot;target_id&quot;: 29}, &quot;type&quot;: &quot;Feature&quot;}, {&quot;bbox&quot;: [-118.03459558433093, 47.62706569552867, -118.02561243148973, 47.63311955248387], &quot;geometry&quot;: {&quot;coordinates&quot;: [[[-118.02561243148973, 47.63311955248387], [-118.02561243148973, 47.62706569552867], [-118.03459558433093, 47.62706569552867], [-118.03459558433093, 47.63311955248387], [-118.02561243148973, 47.63311955248387]]], &quot;type&quot;: &quot;Polygon&quot;}, &quot;id&quot;: &quot;114&quot;, &quot;properties&quot;: {&quot;collection&quot;: &quot;landsat&quot;, &quot;crs&quot;: &quot;EPSG:32610&quot;, &quot;datetime&quot;: &quot;2023-01-17&quot;, &quot;location&quot;: &quot;/tmp/example_rasters/landsat/9_20230117.tif&quot;, &quot;target_id&quot;: 27}, &quot;type&quot;: &quot;Feature&quot;}, {&quot;bbox&quot;: [-118.03378348350029, 47.62775224671388, -118.02480033065909, 47.63380610366908], &quot;geometry&quot;: {&quot;coordinates&quot;: [[[-118.03378348350029, 47.63380610366908], [-118.02480033065909, 47.63380610366908], [-118.02480033065909, 47.62775224671388], [-118.03378348350029, 47.62775224671388], [-118.03378348350029, 47.63380610366908]]], &quot;type&quot;: &quot;Polygon&quot;}, &quot;id&quot;: &quot;115&quot;, &quot;properties&quot;: {&quot;collection&quot;: &quot;target&quot;, &quot;crs&quot;: &quot;EPSG:4326&quot;, &quot;datetime&quot;: &quot;2023-01-24&quot;, &quot;location&quot;: &quot;/tmp/example_rasters/targets/9_20230124.tif&quot;, &quot;target_id&quot;: 27}, &quot;type&quot;: &quot;Feature&quot;}, {&quot;bbox&quot;: [-118.03451605220735, 47.62655197891349, -118.02553289936615, 47.63260583586869], &quot;geometry&quot;: {&quot;coordinates&quot;: [[[-118.02553289936615, 47.62655197891349], [-118.03451605220735, 47.62655197891349], [-118.03451605220735, 47.63260583586869], [-118.02553289936615, 47.63260583586869], [-118.02553289936615, 47.62655197891349]]], &quot;type&quot;: &quot;Polygon&quot;}, &quot;id&quot;: &quot;116&quot;, &quot;properties&quot;: {&quot;collection&quot;: &quot;sentinel2&quot;, &quot;crs&quot;: &quot;EPSG:3857&quot;, &quot;datetime&quot;: &quot;2023-01-23&quot;, &quot;location&quot;: &quot;/tmp/example_rasters/sentinel2/9_20230123.tif&quot;, &quot;target_id&quot;: 27}, &quot;type&quot;: &quot;Feature&quot;}, {&quot;bbox&quot;: [-118.03472991710295, 47.62744789784854, -118.02574676426175, 47.63350175480374], &quot;geometry&quot;: {&quot;coordinates&quot;: [[[-118.02574676426175, 47.62744789784854], [-118.03472991710295, 47.62744789784854], [-118.03472991710295, 47.63350175480374], [-118.02574676426175, 47.63350175480374], [-118.02574676426175, 47.62744789784854]]], &quot;type&quot;: &quot;Polygon&quot;}, &quot;id&quot;: &quot;117&quot;, &quot;properties&quot;: {&quot;collection&quot;: &quot;sentinel2&quot;, &quot;crs&quot;: &quot;EPSG:3857&quot;, &quot;datetime&quot;: &quot;2023-01-18&quot;, &quot;location&quot;: &quot;/tmp/example_rasters/sentinel2/9_20230118.tif&quot;, &quot;target_id&quot;: 27}, &quot;type&quot;: &quot;Feature&quot;}, {&quot;bbox&quot;: [-118.03511354188646, 47.62803285161484, -118.02613038904526, 47.63408670857004], &quot;geometry&quot;: {&quot;coordinates&quot;: [[[-118.02613038904526, 47.62803285161484], [-118.03511354188646, 47.62803285161484], [-118.03511354188646, 47.63408670857004], [-118.02613038904526, 47.63408670857004], [-118.02613038904526, 47.62803285161484]]], &quot;type&quot;: &quot;Polygon&quot;}, &quot;id&quot;: &quot;118&quot;, &quot;properties&quot;: {&quot;collection&quot;: &quot;sentinel2&quot;, &quot;crs&quot;: &quot;EPSG:3857&quot;, &quot;datetime&quot;: &quot;2023-01-20&quot;, &quot;location&quot;: &quot;/tmp/example_rasters/sentinel2/9_20230120.tif&quot;, &quot;target_id&quot;: 27}, &quot;type&quot;: &quot;Feature&quot;}], &quot;type&quot;: &quot;FeatureCollection&quot;});\n",
       "\n",
       "        \n",
       "    \n",
       "    geo_json_e4abb2cfe34fbf9662cf426b48ac1e33.bindTooltip(\n",
       "    function(layer){\n",
       "    let div = L.DomUtil.create(&#x27;div&#x27;);\n",
       "    \n",
       "    let handleObject = feature=&gt;typeof(feature)==&#x27;object&#x27; ? JSON.stringify(feature) : feature;\n",
       "    let fields = [&quot;crs&quot;, &quot;location&quot;, &quot;datetime&quot;, &quot;collection&quot;, &quot;target_id&quot;];\n",
       "    let aliases = [&quot;crs&quot;, &quot;location&quot;, &quot;datetime&quot;, &quot;collection&quot;, &quot;target_id&quot;];\n",
       "    let table = &#x27;&lt;table&gt;&#x27; +\n",
       "        String(\n",
       "        fields.map(\n",
       "        (v,i)=&gt;\n",
       "        `&lt;tr&gt;\n",
       "            &lt;th&gt;${aliases[i]}&lt;/th&gt;\n",
       "            \n",
       "            &lt;td&gt;${handleObject(layer.feature.properties[v])}&lt;/td&gt;\n",
       "        &lt;/tr&gt;`).join(&#x27;&#x27;))\n",
       "    +&#x27;&lt;/table&gt;&#x27;;\n",
       "    div.innerHTML=table;\n",
       "    \n",
       "    return div\n",
       "    }\n",
       "    ,{&quot;className&quot;: &quot;foliumtooltip&quot;, &quot;sticky&quot;: true});\n",
       "                     \n",
       "    \n",
       "            geo_json_e4abb2cfe34fbf9662cf426b48ac1e33.addTo(map_dec5bdf8937b1d53d9d6d751b4fbd38c);\n",
       "        \n",
       "&lt;/script&gt;\n",
       "&lt;/html&gt;\" style=\"position:absolute;width:100%;height:100%;left:0;top:0;border:none !important;\" allowfullscreen webkitallowfullscreen mozallowfullscreen></iframe></div></div>"
      ],
      "text/plain": [
       "<folium.folium.Map at 0x1286fe350>"
      ]
     },
     "execution_count": 9,
     "metadata": {},
     "output_type": "execute_result"
    }
   ],
   "source": [
    "jitter_geometries(final).explore()"
   ]
  },
  {
   "cell_type": "markdown",
   "metadata": {},
   "source": [
    "Now, we need to decide which grid we want to align to. I am guessing we want to align on a global 4326 grid with the same resolution of the target? Or do we align to the grid in the target tifs? If we don't have target tifs, but instead have target vector data, there will be no grid fwiw. "
   ]
  },
  {
   "cell_type": "code",
   "execution_count": 10,
   "metadata": {},
   "outputs": [],
   "source": [
    "for nm, subset in final.groupby('target_id'):\n",
    "    break"
   ]
  },
  {
   "cell_type": "code",
   "execution_count": 37,
   "metadata": {},
   "outputs": [],
   "source": [
    "from torchgeo.experimental.spatiotemporal.gpd_index import extract_slice\n",
    "\n",
    "window_size = 16\n",
    "target_example = subset.loc[subset.collection == 'target'].iloc[0]\n",
    "ex_path = target_example['location']\n",
    "sample_bounds = target_example['geometry'].buffer(-0.0002 * window_size).bounds\n",
    "\n",
    "batch_size = 128\n",
    "batch = np.empty((batch_size, 9, window_size, window_size), dtype=np.float32)\n",
    "\n",
    "for i in range(batch_size):\n",
    "    # sample a point inside the geometry\n",
    "    x = np.random.uniform(sample_bounds[0], sample_bounds[2])\n",
    "    y = np.random.uniform(sample_bounds[1], sample_bounds[3])\n",
    "\n",
    "    # Example usage\n",
    "    res = 0.0002695\n",
    "    slice_bounds = (\n",
    "        x,\n",
    "        y,\n",
    "        x + window_size * res + res * 0.01,  # hack\n",
    "        y + window_size * res + res * 0.01,  # hack\n",
    "    )\n",
    "\n",
    "    d = []\n",
    "    for url in subset['location']:\n",
    "        slice_array = extract_slice(\n",
    "            url,\n",
    "            target_crs='EPSG:4326',\n",
    "            slice_bounds=slice_bounds,\n",
    "            target_resolution=res,\n",
    "        )\n",
    "        d.append(slice_array)\n",
    "    example_patch = np.concatenate(d, axis=0)\n",
    "    batch[i] = example_patch"
   ]
  },
  {
   "cell_type": "code",
   "execution_count": 38,
   "metadata": {},
   "outputs": [
    {
     "data": {
      "text/plain": [
       "(128, 9, 16, 16)"
      ]
     },
     "execution_count": 38,
     "metadata": {},
     "output_type": "execute_result"
    }
   ],
   "source": [
    "batch.shape"
   ]
  },
  {
   "cell_type": "markdown",
   "metadata": {},
   "source": [
    "TODO: Using Xarray to add a time dimension"
   ]
  }
 ],
 "metadata": {
  "kernelspec": {
   "display_name": "torchgeo",
   "language": "python",
   "name": "python3"
  },
  "language_info": {
   "codemirror_mode": {
    "name": "ipython",
    "version": 3
   },
   "file_extension": ".py",
   "mimetype": "text/x-python",
   "name": "python",
   "nbconvert_exporter": "python",
   "pygments_lexer": "ipython3",
   "version": "3.11.10"
  }
 },
 "nbformat": 4,
 "nbformat_minor": 2
}
